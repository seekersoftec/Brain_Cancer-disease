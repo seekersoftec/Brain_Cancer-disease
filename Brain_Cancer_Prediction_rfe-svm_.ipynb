{
  "cells": [
    {
      "cell_type": "code",
      "execution_count": 1,
      "metadata": {
        "colab": {
          "base_uri": "https://localhost:8080/",
          "height": 71
        },
        "colab_type": "code",
        "id": "7oyIu5bDptdI",
        "outputId": "57e75c64-5ae6-4828-adf5-fdfafc2cba43"
      },
      "outputs": [],
      "source": [
        "import numpy as np\n",
        "import pandas as pd\n",
        "import matplotlib.pyplot as plt \n",
        "import seaborn as sns\n",
        "from tabulate import tabulate\n",
        "from collections import Counter\n",
        "from statistics import mean\n",
        "# \n",
        "from sklearn.svm import SVC\n",
        "from sklearn.preprocessing import MinMaxScaler\n",
        "from sklearn.model_selection import train_test_split, GridSearchCV, cross_val_score\n",
        "from sklearn.feature_selection import mutual_info_classif, chi2, SelectKBest, RFE, SelectFromModel \n",
        "from sklearn.ensemble import BaggingClassifier, AdaBoostClassifier, StackingClassifier\n",
        "from sklearn.neural_network import MLPClassifier\n",
        "from sklearn.neighbors import KNeighborsClassifier\n",
        "from sklearn.naive_bayes import GaussianNB\n",
        "from sklearn.tree import DecisionTreeClassifier\n",
        "from sklearn.linear_model import LogisticRegression\n",
        "from sklearn.inspection import permutation_importance\n",
        "from sklearn.metrics import accuracy_score, confusion_matrix, auc, roc_curve, recall_score, precision_score, RocCurveDisplay\n",
        "# \n",
        "from skrebate import ReliefF\n",
        "# \n",
        "# from chefboost import Chefboost as chef\n",
        "# from C45algorithm import *\n",
        "# \n",
        "# "
      ]
    },
    {
      "cell_type": "code",
      "execution_count": 2,
      "metadata": {
        "colab": {},
        "colab_type": "code",
        "id": "IYjo_Lekkndq"
      },
      "outputs": [],
      "source": [
        "def warn(*args, **kwargs):\n",
        "    pass\n",
        "import warnings\n",
        "warnings.warn = warn"
      ]
    },
    {
      "cell_type": "code",
      "execution_count": 3,
      "metadata": {
        "colab": {},
        "colab_type": "code",
        "id": "CXO3U0fUptdP"
      },
      "outputs": [],
      "source": [
        "# Risk of brain tumor\n",
        "# \n",
        "# df = pd.read_csv('https://archive.ics.uci.edu/ml/machine-learning-databases/00383/risk_factors_cervical_cancer.csv')\n",
        "df = pd.read_csv('risk_of_brain_tumor.csv').drop(['Patient Id', 'Unnamed: 0'], axis=1) # Risk of Brain tumor dataset [https://data.world/seekersoftec/risk-of-brain-tumor/workspace/data-dictionary]\n",
        "# \n",
        "# "
      ]
    },
    {
      "cell_type": "code",
      "execution_count": 4,
      "metadata": {},
      "outputs": [],
      "source": [
        "# Preprocessed images\n",
        "# df = pd.read_csv('bt_dataset_t3.csv').drop(['Image', 'PSNR'], axis=1) # \n",
        "# df = pd.read_excel('brain tumor datasets - Copy.xlsx').drop(['Image'], axis=1) #\n",
        "# "
      ]
    },
    {
      "cell_type": "code",
      "execution_count": 5,
      "metadata": {},
      "outputs": [
        {
          "name": "stdout",
          "output_type": "stream",
          "text": [
            "Dimension of Dataframe: (363, 21)\n"
          ]
        }
      ],
      "source": [
        "print('Dimension of Dataframe:', df.shape)\n",
        "# \n"
      ]
    },
    {
      "cell_type": "code",
      "execution_count": 6,
      "metadata": {},
      "outputs": [
        {
          "name": "stdout",
          "output_type": "stream",
          "text": [
            "Number of True cases:  184\n",
            "Number of False cases:  179\n",
            "Percentage ratio[True cases]:  50.688705234159784\n",
            "Percentage ratio[False cases]:  49.311294765840216\n"
          ]
        }
      ],
      "source": [
        "# Target, Class, C-Risk Level\n",
        "# \n",
        "true_cases = df[(df['C-Risk Level'] == 1)].count()['Age']\n",
        "false_cases = len(df) - df[(df['C-Risk Level'] == 1)].count()['Age']\n",
        "true_cases_ratio = (true_cases/len(df))*100\n",
        "false_cases_ratio = (false_cases/len(df))*100\n",
        "# \n",
        "print('Number of True cases: ', true_cases)\n",
        "print('Number of False cases: ', false_cases)\n",
        "# \n",
        "print('Percentage ratio[True cases]: ', true_cases_ratio)\n",
        "print('Percentage ratio[False cases]: ', false_cases_ratio)\n",
        "# "
      ]
    },
    {
      "cell_type": "code",
      "execution_count": 7,
      "metadata": {},
      "outputs": [
        {
          "data": {
            "text/html": [
              "<div>\n",
              "<style scoped>\n",
              "    .dataframe tbody tr th:only-of-type {\n",
              "        vertical-align: middle;\n",
              "    }\n",
              "\n",
              "    .dataframe tbody tr th {\n",
              "        vertical-align: top;\n",
              "    }\n",
              "\n",
              "    .dataframe thead th {\n",
              "        text-align: right;\n",
              "    }\n",
              "</style>\n",
              "<table border=\"1\" class=\"dataframe\">\n",
              "  <thead>\n",
              "    <tr style=\"text-align: right;\">\n",
              "      <th></th>\n",
              "      <th>Age</th>\n",
              "      <th>Gender</th>\n",
              "      <th>Genetic Risk</th>\n",
              "      <th>Occupational Hazards</th>\n",
              "      <th>Headache</th>\n",
              "      <th>Seizure Rate</th>\n",
              "      <th>Convulsion Rate</th>\n",
              "      <th>Blurred Vision</th>\n",
              "      <th>Double Vision</th>\n",
              "      <th>Peripheral Vision Loss</th>\n",
              "      <th>...</th>\n",
              "      <th>Balance Disorder</th>\n",
              "      <th>Nausea</th>\n",
              "      <th>Vomiting</th>\n",
              "      <th>Rate of Memory Lapses</th>\n",
              "      <th>Drowsiness</th>\n",
              "      <th>Personality disorder</th>\n",
              "      <th>Numbness in arms</th>\n",
              "      <th>Numbness in legs</th>\n",
              "      <th>Syncope Rate</th>\n",
              "      <th>C-Risk Level</th>\n",
              "    </tr>\n",
              "  </thead>\n",
              "  <tbody>\n",
              "    <tr>\n",
              "      <th>0</th>\n",
              "      <td>33</td>\n",
              "      <td>1</td>\n",
              "      <td>3</td>\n",
              "      <td>4</td>\n",
              "      <td>2</td>\n",
              "      <td>2</td>\n",
              "      <td>2</td>\n",
              "      <td>2</td>\n",
              "      <td>2</td>\n",
              "      <td>2</td>\n",
              "      <td>...</td>\n",
              "      <td>3</td>\n",
              "      <td>4</td>\n",
              "      <td>4</td>\n",
              "      <td>2</td>\n",
              "      <td>3</td>\n",
              "      <td>3</td>\n",
              "      <td>2</td>\n",
              "      <td>2</td>\n",
              "      <td>4</td>\n",
              "      <td>0</td>\n",
              "    </tr>\n",
              "    <tr>\n",
              "      <th>1</th>\n",
              "      <td>35</td>\n",
              "      <td>1</td>\n",
              "      <td>2</td>\n",
              "      <td>4</td>\n",
              "      <td>2</td>\n",
              "      <td>2</td>\n",
              "      <td>6</td>\n",
              "      <td>2</td>\n",
              "      <td>2</td>\n",
              "      <td>2</td>\n",
              "      <td>...</td>\n",
              "      <td>2</td>\n",
              "      <td>4</td>\n",
              "      <td>3</td>\n",
              "      <td>1</td>\n",
              "      <td>4</td>\n",
              "      <td>2</td>\n",
              "      <td>4</td>\n",
              "      <td>2</td>\n",
              "      <td>4</td>\n",
              "      <td>0</td>\n",
              "    </tr>\n",
              "    <tr>\n",
              "      <th>2</th>\n",
              "      <td>42</td>\n",
              "      <td>1</td>\n",
              "      <td>4</td>\n",
              "      <td>3</td>\n",
              "      <td>2</td>\n",
              "      <td>1</td>\n",
              "      <td>3</td>\n",
              "      <td>2</td>\n",
              "      <td>2</td>\n",
              "      <td>2</td>\n",
              "      <td>...</td>\n",
              "      <td>1</td>\n",
              "      <td>2</td>\n",
              "      <td>2</td>\n",
              "      <td>3</td>\n",
              "      <td>1</td>\n",
              "      <td>1</td>\n",
              "      <td>1</td>\n",
              "      <td>1</td>\n",
              "      <td>2</td>\n",
              "      <td>0</td>\n",
              "    </tr>\n",
              "    <tr>\n",
              "      <th>3</th>\n",
              "      <td>17</td>\n",
              "      <td>1</td>\n",
              "      <td>4</td>\n",
              "      <td>3</td>\n",
              "      <td>8</td>\n",
              "      <td>7</td>\n",
              "      <td>2</td>\n",
              "      <td>7</td>\n",
              "      <td>8</td>\n",
              "      <td>8</td>\n",
              "      <td>...</td>\n",
              "      <td>2</td>\n",
              "      <td>3</td>\n",
              "      <td>1</td>\n",
              "      <td>1</td>\n",
              "      <td>1</td>\n",
              "      <td>2</td>\n",
              "      <td>2</td>\n",
              "      <td>6</td>\n",
              "      <td>2</td>\n",
              "      <td>0</td>\n",
              "    </tr>\n",
              "    <tr>\n",
              "      <th>4</th>\n",
              "      <td>22</td>\n",
              "      <td>0</td>\n",
              "      <td>3</td>\n",
              "      <td>4</td>\n",
              "      <td>3</td>\n",
              "      <td>1</td>\n",
              "      <td>5</td>\n",
              "      <td>1</td>\n",
              "      <td>1</td>\n",
              "      <td>1</td>\n",
              "      <td>...</td>\n",
              "      <td>4</td>\n",
              "      <td>2</td>\n",
              "      <td>2</td>\n",
              "      <td>2</td>\n",
              "      <td>3</td>\n",
              "      <td>6</td>\n",
              "      <td>5</td>\n",
              "      <td>1</td>\n",
              "      <td>1</td>\n",
              "      <td>0</td>\n",
              "    </tr>\n",
              "  </tbody>\n",
              "</table>\n",
              "<p>5 rows × 21 columns</p>\n",
              "</div>"
            ],
            "text/plain": [
              "   Age  Gender  Genetic Risk  Occupational Hazards  Headache  Seizure Rate  \\\n",
              "0   33       1             3                     4         2             2   \n",
              "1   35       1             2                     4         2             2   \n",
              "2   42       1             4                     3         2             1   \n",
              "3   17       1             4                     3         8             7   \n",
              "4   22       0             3                     4         3             1   \n",
              "\n",
              "   Convulsion Rate  Blurred Vision  Double Vision  Peripheral Vision Loss  \\\n",
              "0                2               2              2                       2   \n",
              "1                6               2              2                       2   \n",
              "2                3               2              2                       2   \n",
              "3                2               7              8                       8   \n",
              "4                5               1              1                       1   \n",
              "\n",
              "   ...  Balance Disorder  Nausea  Vomiting  Rate of Memory Lapses  Drowsiness  \\\n",
              "0  ...                 3       4         4                      2           3   \n",
              "1  ...                 2       4         3                      1           4   \n",
              "2  ...                 1       2         2                      3           1   \n",
              "3  ...                 2       3         1                      1           1   \n",
              "4  ...                 4       2         2                      2           3   \n",
              "\n",
              "   Personality disorder  Numbness in arms  Numbness in legs  Syncope Rate  \\\n",
              "0                     3                 2                 2             4   \n",
              "1                     2                 4                 2             4   \n",
              "2                     1                 1                 1             2   \n",
              "3                     2                 2                 6             2   \n",
              "4                     6                 5                 1             1   \n",
              "\n",
              "   C-Risk Level  \n",
              "0             0  \n",
              "1             0  \n",
              "2             0  \n",
              "3             0  \n",
              "4             0  \n",
              "\n",
              "[5 rows x 21 columns]"
            ]
          },
          "execution_count": 7,
          "metadata": {},
          "output_type": "execute_result"
        }
      ],
      "source": [
        "df.head(5)\n"
      ]
    },
    {
      "cell_type": "code",
      "execution_count": 8,
      "metadata": {
        "colab": {
          "base_uri": "https://localhost:8080/",
          "height": 297
        },
        "colab_type": "code",
        "id": "XWt9QOVkptdh",
        "outputId": "b0c64501-0b4c-490c-96b8-78f2dbe6bcb6"
      },
      "outputs": [
        {
          "data": {
            "text/html": [
              "<div>\n",
              "<style scoped>\n",
              "    .dataframe tbody tr th:only-of-type {\n",
              "        vertical-align: middle;\n",
              "    }\n",
              "\n",
              "    .dataframe tbody tr th {\n",
              "        vertical-align: top;\n",
              "    }\n",
              "\n",
              "    .dataframe thead th {\n",
              "        text-align: right;\n",
              "    }\n",
              "</style>\n",
              "<table border=\"1\" class=\"dataframe\">\n",
              "  <thead>\n",
              "    <tr style=\"text-align: right;\">\n",
              "      <th></th>\n",
              "      <th>Age</th>\n",
              "      <th>Gender</th>\n",
              "      <th>Genetic Risk</th>\n",
              "      <th>Occupational Hazards</th>\n",
              "      <th>Headache</th>\n",
              "      <th>Seizure Rate</th>\n",
              "      <th>Convulsion Rate</th>\n",
              "      <th>Blurred Vision</th>\n",
              "      <th>Double Vision</th>\n",
              "      <th>Peripheral Vision Loss</th>\n",
              "      <th>...</th>\n",
              "      <th>Balance Disorder</th>\n",
              "      <th>Nausea</th>\n",
              "      <th>Vomiting</th>\n",
              "      <th>Rate of Memory Lapses</th>\n",
              "      <th>Drowsiness</th>\n",
              "      <th>Personality disorder</th>\n",
              "      <th>Numbness in arms</th>\n",
              "      <th>Numbness in legs</th>\n",
              "      <th>Syncope Rate</th>\n",
              "      <th>C-Risk Level</th>\n",
              "    </tr>\n",
              "  </thead>\n",
              "  <tbody>\n",
              "    <tr>\n",
              "      <th>count</th>\n",
              "      <td>363.000000</td>\n",
              "      <td>363.000000</td>\n",
              "      <td>363.000000</td>\n",
              "      <td>363.000000</td>\n",
              "      <td>363.000000</td>\n",
              "      <td>363.000000</td>\n",
              "      <td>363.000000</td>\n",
              "      <td>363.000000</td>\n",
              "      <td>363.000000</td>\n",
              "      <td>363.000000</td>\n",
              "      <td>...</td>\n",
              "      <td>363.000000</td>\n",
              "      <td>363.000000</td>\n",
              "      <td>363.000000</td>\n",
              "      <td>363.000000</td>\n",
              "      <td>363.000000</td>\n",
              "      <td>363.000000</td>\n",
              "      <td>363.000000</td>\n",
              "      <td>363.000000</td>\n",
              "      <td>363.000000</td>\n",
              "      <td>363.000000</td>\n",
              "    </tr>\n",
              "    <tr>\n",
              "      <th>mean</th>\n",
              "      <td>33.369146</td>\n",
              "      <td>0.561983</td>\n",
              "      <td>4.212121</td>\n",
              "      <td>4.426997</td>\n",
              "      <td>3.837466</td>\n",
              "      <td>3.931129</td>\n",
              "      <td>4.022039</td>\n",
              "      <td>2.774105</td>\n",
              "      <td>3.217631</td>\n",
              "      <td>3.228650</td>\n",
              "      <td>...</td>\n",
              "      <td>2.953168</td>\n",
              "      <td>4.264463</td>\n",
              "      <td>3.473829</td>\n",
              "      <td>3.165289</td>\n",
              "      <td>3.504132</td>\n",
              "      <td>3.504132</td>\n",
              "      <td>3.225895</td>\n",
              "      <td>3.325069</td>\n",
              "      <td>3.005510</td>\n",
              "      <td>0.506887</td>\n",
              "    </tr>\n",
              "    <tr>\n",
              "      <th>std</th>\n",
              "      <td>12.342324</td>\n",
              "      <td>0.496828</td>\n",
              "      <td>1.938749</td>\n",
              "      <td>1.947385</td>\n",
              "      <td>2.037908</td>\n",
              "      <td>2.234386</td>\n",
              "      <td>1.791496</td>\n",
              "      <td>1.556910</td>\n",
              "      <td>1.844663</td>\n",
              "      <td>1.889212</td>\n",
              "      <td>...</td>\n",
              "      <td>2.068044</td>\n",
              "      <td>2.354384</td>\n",
              "      <td>2.243777</td>\n",
              "      <td>1.762158</td>\n",
              "      <td>2.132842</td>\n",
              "      <td>2.367333</td>\n",
              "      <td>1.694545</td>\n",
              "      <td>1.947971</td>\n",
              "      <td>1.469759</td>\n",
              "      <td>0.500643</td>\n",
              "    </tr>\n",
              "    <tr>\n",
              "      <th>min</th>\n",
              "      <td>14.000000</td>\n",
              "      <td>0.000000</td>\n",
              "      <td>1.000000</td>\n",
              "      <td>1.000000</td>\n",
              "      <td>1.000000</td>\n",
              "      <td>1.000000</td>\n",
              "      <td>1.000000</td>\n",
              "      <td>1.000000</td>\n",
              "      <td>1.000000</td>\n",
              "      <td>1.000000</td>\n",
              "      <td>...</td>\n",
              "      <td>1.000000</td>\n",
              "      <td>1.000000</td>\n",
              "      <td>1.000000</td>\n",
              "      <td>1.000000</td>\n",
              "      <td>1.000000</td>\n",
              "      <td>1.000000</td>\n",
              "      <td>1.000000</td>\n",
              "      <td>1.000000</td>\n",
              "      <td>1.000000</td>\n",
              "      <td>0.000000</td>\n",
              "    </tr>\n",
              "    <tr>\n",
              "      <th>25%</th>\n",
              "      <td>25.000000</td>\n",
              "      <td>0.000000</td>\n",
              "      <td>2.500000</td>\n",
              "      <td>3.000000</td>\n",
              "      <td>2.000000</td>\n",
              "      <td>2.000000</td>\n",
              "      <td>2.000000</td>\n",
              "      <td>2.000000</td>\n",
              "      <td>2.000000</td>\n",
              "      <td>2.000000</td>\n",
              "      <td>...</td>\n",
              "      <td>1.000000</td>\n",
              "      <td>2.000000</td>\n",
              "      <td>2.000000</td>\n",
              "      <td>2.000000</td>\n",
              "      <td>2.000000</td>\n",
              "      <td>2.000000</td>\n",
              "      <td>2.000000</td>\n",
              "      <td>2.000000</td>\n",
              "      <td>2.000000</td>\n",
              "      <td>0.000000</td>\n",
              "    </tr>\n",
              "    <tr>\n",
              "      <th>50%</th>\n",
              "      <td>33.000000</td>\n",
              "      <td>1.000000</td>\n",
              "      <td>4.000000</td>\n",
              "      <td>4.000000</td>\n",
              "      <td>4.000000</td>\n",
              "      <td>3.000000</td>\n",
              "      <td>4.000000</td>\n",
              "      <td>2.000000</td>\n",
              "      <td>3.000000</td>\n",
              "      <td>2.000000</td>\n",
              "      <td>...</td>\n",
              "      <td>2.000000</td>\n",
              "      <td>4.000000</td>\n",
              "      <td>3.000000</td>\n",
              "      <td>3.000000</td>\n",
              "      <td>3.000000</td>\n",
              "      <td>3.000000</td>\n",
              "      <td>3.000000</td>\n",
              "      <td>2.000000</td>\n",
              "      <td>3.000000</td>\n",
              "      <td>1.000000</td>\n",
              "    </tr>\n",
              "    <tr>\n",
              "      <th>75%</th>\n",
              "      <td>39.000000</td>\n",
              "      <td>1.000000</td>\n",
              "      <td>6.000000</td>\n",
              "      <td>7.000000</td>\n",
              "      <td>5.000000</td>\n",
              "      <td>6.000000</td>\n",
              "      <td>6.000000</td>\n",
              "      <td>4.000000</td>\n",
              "      <td>4.000000</td>\n",
              "      <td>5.000000</td>\n",
              "      <td>...</td>\n",
              "      <td>5.000000</td>\n",
              "      <td>7.000000</td>\n",
              "      <td>5.000000</td>\n",
              "      <td>4.000000</td>\n",
              "      <td>4.000000</td>\n",
              "      <td>6.000000</td>\n",
              "      <td>5.000000</td>\n",
              "      <td>5.000000</td>\n",
              "      <td>4.000000</td>\n",
              "      <td>1.000000</td>\n",
              "    </tr>\n",
              "    <tr>\n",
              "      <th>max</th>\n",
              "      <td>73.000000</td>\n",
              "      <td>1.000000</td>\n",
              "      <td>7.000000</td>\n",
              "      <td>8.000000</td>\n",
              "      <td>8.000000</td>\n",
              "      <td>9.000000</td>\n",
              "      <td>7.000000</td>\n",
              "      <td>7.000000</td>\n",
              "      <td>8.000000</td>\n",
              "      <td>8.000000</td>\n",
              "      <td>...</td>\n",
              "      <td>8.000000</td>\n",
              "      <td>9.000000</td>\n",
              "      <td>9.000000</td>\n",
              "      <td>7.000000</td>\n",
              "      <td>9.000000</td>\n",
              "      <td>8.000000</td>\n",
              "      <td>7.000000</td>\n",
              "      <td>9.000000</td>\n",
              "      <td>7.000000</td>\n",
              "      <td>1.000000</td>\n",
              "    </tr>\n",
              "  </tbody>\n",
              "</table>\n",
              "<p>8 rows × 21 columns</p>\n",
              "</div>"
            ],
            "text/plain": [
              "              Age      Gender  Genetic Risk  Occupational Hazards    Headache  \\\n",
              "count  363.000000  363.000000    363.000000            363.000000  363.000000   \n",
              "mean    33.369146    0.561983      4.212121              4.426997    3.837466   \n",
              "std     12.342324    0.496828      1.938749              1.947385    2.037908   \n",
              "min     14.000000    0.000000      1.000000              1.000000    1.000000   \n",
              "25%     25.000000    0.000000      2.500000              3.000000    2.000000   \n",
              "50%     33.000000    1.000000      4.000000              4.000000    4.000000   \n",
              "75%     39.000000    1.000000      6.000000              7.000000    5.000000   \n",
              "max     73.000000    1.000000      7.000000              8.000000    8.000000   \n",
              "\n",
              "       Seizure Rate  Convulsion Rate  Blurred Vision  Double Vision  \\\n",
              "count    363.000000       363.000000      363.000000     363.000000   \n",
              "mean       3.931129         4.022039        2.774105       3.217631   \n",
              "std        2.234386         1.791496        1.556910       1.844663   \n",
              "min        1.000000         1.000000        1.000000       1.000000   \n",
              "25%        2.000000         2.000000        2.000000       2.000000   \n",
              "50%        3.000000         4.000000        2.000000       3.000000   \n",
              "75%        6.000000         6.000000        4.000000       4.000000   \n",
              "max        9.000000         7.000000        7.000000       8.000000   \n",
              "\n",
              "       Peripheral Vision Loss  ...  Balance Disorder      Nausea    Vomiting  \\\n",
              "count              363.000000  ...        363.000000  363.000000  363.000000   \n",
              "mean                 3.228650  ...          2.953168    4.264463    3.473829   \n",
              "std                  1.889212  ...          2.068044    2.354384    2.243777   \n",
              "min                  1.000000  ...          1.000000    1.000000    1.000000   \n",
              "25%                  2.000000  ...          1.000000    2.000000    2.000000   \n",
              "50%                  2.000000  ...          2.000000    4.000000    3.000000   \n",
              "75%                  5.000000  ...          5.000000    7.000000    5.000000   \n",
              "max                  8.000000  ...          8.000000    9.000000    9.000000   \n",
              "\n",
              "       Rate of Memory Lapses  Drowsiness  Personality disorder  \\\n",
              "count             363.000000  363.000000            363.000000   \n",
              "mean                3.165289    3.504132              3.504132   \n",
              "std                 1.762158    2.132842              2.367333   \n",
              "min                 1.000000    1.000000              1.000000   \n",
              "25%                 2.000000    2.000000              2.000000   \n",
              "50%                 3.000000    3.000000              3.000000   \n",
              "75%                 4.000000    4.000000              6.000000   \n",
              "max                 7.000000    9.000000              8.000000   \n",
              "\n",
              "       Numbness in arms  Numbness in legs  Syncope Rate  C-Risk Level  \n",
              "count        363.000000        363.000000    363.000000    363.000000  \n",
              "mean           3.225895          3.325069      3.005510      0.506887  \n",
              "std            1.694545          1.947971      1.469759      0.500643  \n",
              "min            1.000000          1.000000      1.000000      0.000000  \n",
              "25%            2.000000          2.000000      2.000000      0.000000  \n",
              "50%            3.000000          2.000000      3.000000      1.000000  \n",
              "75%            5.000000          5.000000      4.000000      1.000000  \n",
              "max            7.000000          9.000000      7.000000      1.000000  \n",
              "\n",
              "[8 rows x 21 columns]"
            ]
          },
          "execution_count": 8,
          "metadata": {},
          "output_type": "execute_result"
        }
      ],
      "source": [
        "df.describe()"
      ]
    },
    {
      "cell_type": "code",
      "execution_count": 9,
      "metadata": {},
      "outputs": [
        {
          "data": {
            "text/plain": [
              "Age                       12113\n",
              "Gender                      204\n",
              "Genetic Risk               1529\n",
              "Occupational Hazards       1607\n",
              "Headache                   1393\n",
              "Seizure Rate               1427\n",
              "Convulsion Rate            1460\n",
              "Blurred Vision             1007\n",
              "Double Vision              1168\n",
              "Peripheral Vision Loss     1172\n",
              "Loss of Smell              1172\n",
              "Balance Disorder           1072\n",
              "Nausea                     1548\n",
              "Vomiting                   1261\n",
              "Rate of Memory Lapses      1149\n",
              "Drowsiness                 1272\n",
              "Personality disorder       1272\n",
              "Numbness in arms           1171\n",
              "Numbness in legs           1207\n",
              "Syncope Rate               1091\n",
              "C-Risk Level                184\n",
              "dtype: int64"
            ]
          },
          "execution_count": 9,
          "metadata": {},
          "output_type": "execute_result"
        }
      ],
      "source": [
        "df.sum()"
      ]
    },
    {
      "cell_type": "code",
      "execution_count": 10,
      "metadata": {
        "colab": {},
        "colab_type": "code",
        "id": "OsKBAZwtptdo"
      },
      "outputs": [],
      "source": [
        "df = df.replace('?', np.nan)\n",
        "# df = df.replace('inf', np.nan)"
      ]
    },
    {
      "cell_type": "code",
      "execution_count": 11,
      "metadata": {
        "colab": {
          "base_uri": "https://localhost:8080/",
          "height": 646
        },
        "colab_type": "code",
        "id": "5YhofgiXptdt",
        "outputId": "cfb877c3-baac-4432-eec9-7f5f1c6dd9d5"
      },
      "outputs": [
        {
          "data": {
            "text/plain": [
              "Age                       0\n",
              "Gender                    0\n",
              "Genetic Risk              0\n",
              "Occupational Hazards      0\n",
              "Headache                  0\n",
              "Seizure Rate              0\n",
              "Convulsion Rate           0\n",
              "Blurred Vision            0\n",
              "Double Vision             0\n",
              "Peripheral Vision Loss    0\n",
              "Loss of Smell             0\n",
              "Balance Disorder          0\n",
              "Nausea                    0\n",
              "Vomiting                  0\n",
              "Rate of Memory Lapses     0\n",
              "Drowsiness                0\n",
              "Personality disorder      0\n",
              "Numbness in arms          0\n",
              "Numbness in legs          0\n",
              "Syncope Rate              0\n",
              "C-Risk Level              0\n",
              "dtype: int64"
            ]
          },
          "execution_count": 11,
          "metadata": {},
          "output_type": "execute_result"
        }
      ],
      "source": [
        "df.isna().sum()"
      ]
    },
    {
      "cell_type": "code",
      "execution_count": 12,
      "metadata": {
        "colab": {
          "base_uri": "https://localhost:8080/",
          "height": 646
        },
        "colab_type": "code",
        "id": "w0TneOABptd_",
        "outputId": "d28300c5-0fbd-4cc1-f519-89dcc18e7a09"
      },
      "outputs": [
        {
          "data": {
            "text/plain": [
              "Age                       float64\n",
              "Gender                    float64\n",
              "Genetic Risk              float64\n",
              "Occupational Hazards      float64\n",
              "Headache                  float64\n",
              "Seizure Rate              float64\n",
              "Convulsion Rate           float64\n",
              "Blurred Vision            float64\n",
              "Double Vision             float64\n",
              "Peripheral Vision Loss    float64\n",
              "Loss of Smell             float64\n",
              "Balance Disorder          float64\n",
              "Nausea                    float64\n",
              "Vomiting                  float64\n",
              "Rate of Memory Lapses     float64\n",
              "Drowsiness                float64\n",
              "Personality disorder      float64\n",
              "Numbness in arms          float64\n",
              "Numbness in legs          float64\n",
              "Syncope Rate              float64\n",
              "C-Risk Level              float64\n",
              "dtype: object"
            ]
          },
          "execution_count": 12,
          "metadata": {},
          "output_type": "execute_result"
        }
      ],
      "source": [
        "df = df.astype('float64')\n",
        "df.dtypes"
      ]
    },
    {
      "cell_type": "markdown",
      "metadata": {},
      "source": [
        "#### Data Preprocessing"
      ]
    },
    {
      "cell_type": "code",
      "execution_count": 13,
      "metadata": {},
      "outputs": [],
      "source": [
        "# \n",
        "class PreprocessDataFrame:\n",
        "    \"\"\"\n",
        "      Preprocess the dataset. \n",
        "        Dataset is evenly distributed both in the training and testing, \n",
        "        \\rto preserve the dataset proportions for better prediction and reproduceability of results.\n",
        "    \"\"\"\n",
        "    def __init__(self, dataframe, features_size, target_size, test_ratio=0.25):\n",
        "      self.dataframe = self.clean_null_values(dataframe) # determining the null values in each column and replacing them\n",
        "      # self.dataframe = dataframe\n",
        "      self.test_ratio = test_ratio\n",
        "      self.feature_vector =  self.dataframe.iloc[:, :features_size].values\n",
        "      # self.feature_vector =  self.dataframe.iloc[:, features_size:].values\n",
        "      self.target_vector = self.dataframe.iloc[:, target_size:].values\n",
        "      # self.target_vector = self.dataframe.iloc[:, :target_size].values\n",
        "\n",
        "    # clean null values\n",
        "    def clean_null_values(self, dataframe):\n",
        "      \"\"\"\n",
        "        Determining the null values in each column and replacing them using the Mean imputation method\n",
        "      \"\"\"\n",
        "      dataframe = dataframe.replace(\"?\", np.nan)\n",
        "      dataframe = dataframe.replace(\"NaN\", np.nan)\n",
        "      dataframe = dataframe.replace(\"inf\", np.inf)\n",
        "      # \n",
        "      indices_to_keep = ~dataframe.isin([np.nan, np.inf, -np.inf]).any(1)\n",
        "      dataframe = dataframe[indices_to_keep].astype(np.float64)\n",
        "\n",
        "      for column in dataframe.columns:\n",
        "        dataframe[column] = dataframe[column].fillna(dataframe[column].mean())\n",
        "      \n",
        "        return dataframe\n",
        "\n",
        "    # MinMax\n",
        "    def minMaxScaler(self, feature_range=(0, 1), binarize_y=False, classes=[1,2,3,4,5,6], **kwargs):\n",
        "      \"\"\"\n",
        "        Minmax scaler: Transform features by scaling each feature to a given range.\n",
        "      \"\"\"\n",
        "      # Get the feature vector\n",
        "      X = self.feature_vector\n",
        "\n",
        "      # Get the target vector\n",
        "      y = self.target_vector\n",
        "\n",
        "      # first binarize y; for multiclass problems\n",
        "      if (binarize_y):\n",
        "        y = label_binarize(y, classes=classes)\n",
        "\n",
        "      # splitting the dataset into  training and test set\n",
        "      X_train, X_test, y_train, y_test = train_test_split(X, y, test_size=self.test_ratio, random_state=42, stratify=y, **kwargs)\n",
        "\n",
        "      # MinMaxScaling\n",
        "      mm = MinMaxScaler(feature_range=feature_range)\n",
        "      \n",
        "      # feeding the independent data into the scaler\n",
        "    \n",
        "      # Standardize the training set\n",
        "      X_train = mm.fit_transform(X_train)\n",
        "      # X_train = mm.transform(X_train)\n",
        "\n",
        "      # Standardize the testing set\n",
        "      X_test = mm.fit_transform(X_test)\n",
        "      # X_test = mm.transform(X_test)\n",
        "      \n",
        "      return X_train, X_test, y_train, y_test\n",
        "\n",
        "# \n",
        "# "
      ]
    },
    {
      "cell_type": "code",
      "execution_count": 14,
      "metadata": {},
      "outputs": [],
      "source": [
        "# df.iloc[:, df.columns.size-13:]\n",
        "# df.iloc[:, df.columns.size-1:]\n",
        "# df.iloc[:, :df.columns.size-len(df.columns)+1]\n",
        "# \n",
        "# "
      ]
    },
    {
      "cell_type": "code",
      "execution_count": 15,
      "metadata": {},
      "outputs": [
        {
          "name": "stdout",
          "output_type": "stream",
          "text": [
            "(290, 20) (73, 20) (290, 1) (73, 1)\n"
          ]
        }
      ],
      "source": [
        "# target = ['C-Risk Level']\n",
        "# \n",
        "X_train, X_test, y_train, y_test = PreprocessDataFrame(dataframe=df, test_ratio=0.20, target_size=df.columns.size-1, features_size=df.columns.size-1).minMaxScaler()\n",
        "# \n",
        "print(X_train.shape, X_test.shape, y_train.shape, y_test.shape)\n",
        "# \n",
        "# "
      ]
    },
    {
      "cell_type": "markdown",
      "metadata": {},
      "source": [
        "### Feature Selection"
      ]
    },
    {
      "cell_type": "code",
      "execution_count": 16,
      "metadata": {},
      "outputs": [],
      "source": [
        "# \n",
        "#   FeatureSelection\n",
        "# \n",
        "class FeatureSelection:\n",
        "\n",
        "    def __init__(self) -> None:\n",
        "        pass\n",
        "\n",
        "    def _majority_voting(self, columns_list: list, threshold: int = 2, total_feature_len: int = 5) -> list:\n",
        "        \"\"\"\n",
        "            A simple voting technique used to combine features \\n\n",
        "            from different feature selection algorithms that were chosen by them.\n",
        "        \"\"\"\n",
        "        # flatten the list\n",
        "        flat_list = []\n",
        "        for column_list in columns_list:\n",
        "            flat_list += list(column_list) \n",
        "        # \n",
        "        # count the  number of duplicates of each feature \n",
        "        new_dict = dict(Counter(flat_list))\n",
        "        # \n",
        "        # Get the feature that met the threshold \n",
        "        new_features_list = []\n",
        "        for k in new_dict:\n",
        "            if(new_dict[k] >= threshold):\n",
        "                new_features_list.append(k)\n",
        "                # \n",
        "        # \n",
        "        return new_features_list[:total_feature_len]\n",
        "\n",
        "    def get_feature_rankings(self, dataframe_columns: list, algorithm: dict) -> dict:\n",
        "        \"\"\"\n",
        "            Get feature scores from FS algorithm such as:\n",
        "                - Mutual Info\\n\n",
        "                - Chi-squared\\n\n",
        "                - ReliefF\\n\n",
        "\n",
        "        \"\"\" \n",
        "        # \n",
        "        _emp_dict = {}\n",
        "        # \n",
        "        try:\n",
        "            # \n",
        "            algorithm_keys = list(algorithm.keys())\n",
        "            # \n",
        "            if ('Mutual Info' in algorithm_keys):\n",
        "                for col in dataframe_columns:\n",
        "                    _emp_dict[col] = list(algorithm['Mutual Info'].scores_)[dataframe_columns.index(col)]\n",
        "\n",
        "            elif ('Chi-squared' in algorithm_keys ):\n",
        "                for col in dataframe_columns:\n",
        "                    _emp_dict[col] = list(algorithm['Chi-squared'].scores_)[dataframe_columns.index(col)]\n",
        "\n",
        "            elif ('ReliefF' in algorithm_keys):\n",
        "                for col in dataframe_columns:\n",
        "                    _emp_dict[col] = list(algorithm['ReliefF'].feature_importances_)[dataframe_columns.index(col)]\n",
        "            else:\n",
        "                pass\n",
        "        except Exception as e:\n",
        "            return SystemError(e)\n",
        "\n",
        "        # sort feature scores from highest to lowest\n",
        "        if (len(_emp_dict) > 0):\n",
        "            _emp_dict = {k: v for k, v in sorted(_emp_dict.items(), key=lambda item: item[1], reverse=True)}\n",
        "            return _emp_dict\n",
        "        \n",
        "        return dict()\n",
        "\n",
        "    def _tabulate(self, _features: dict, headers: list) -> str:\n",
        "        \"\"\"\n",
        "            Tabulate Features\n",
        "        \"\"\"\n",
        "        _table = []\n",
        "        for key in _features:\n",
        "            _table.append((key, _features[key]))\n",
        "        # \n",
        "        return tabulate(_table, headers=headers)\n",
        "\n",
        "    def column_mean(self, _X_test: np.array,_column_index: int = 0) -> np.array:\n",
        "        \"\"\"\n",
        "            Replace column by the mean of the column\n",
        "        \"\"\"\n",
        "        # \n",
        "        # flip matrix [column-wise]\n",
        "        res = np.rot90(_X_test)\n",
        "        # calculate the mean\n",
        "        res[_column_index] = [(sum(res[_column_index])/len(res[_column_index])) for i in range(len(_X_test))]\n",
        "        # \n",
        "        return np.rot90(res)\n",
        "# \n",
        "# \n",
        "# \n"
      ]
    },
    {
      "cell_type": "code",
      "execution_count": 17,
      "metadata": {},
      "outputs": [],
      "source": [
        "# \n",
        "# FeatureSelectionPhase1\n",
        "# \n",
        "class FeatureSelectionPhase1(FeatureSelection):\n",
        "    \"\"\"\n",
        "        Feature Selection Phase 1\n",
        "    \"\"\"\n",
        "\n",
        "    def __init__(self,_X_train, _y_train, _dataframe_cols:list, _select_k: int = 13) -> None:\n",
        "        self._dataframe_columns = _dataframe_cols\n",
        "        self._X_train = _X_train\n",
        "        self._y_train =_y_train\n",
        "        self._select_k = _select_k  # change this to how much features you want to keep from the top ones.  \n",
        "\n",
        "    def mutual_info(self):\n",
        "        # create the SelectKBest with the mutual info strategy.\n",
        "        MI_selection = SelectKBest(mutual_info_classif, k=self._select_k).fit(self._X_train, self._y_train)\n",
        "\n",
        "        # return the k selected features.\n",
        "        # MI_features = df.iloc[:, :df.columns.size-1].columns[MI_selection.get_support()]\n",
        "\n",
        "        return self.get_feature_rankings(self._dataframe_columns, algorithm={'Mutual Info': MI_selection})\n",
        "    \n",
        "    def chi_squared(self):\n",
        "        \n",
        "        # apply the chi2 score on the data and target (target should be binary).  \n",
        "        CS_selection = SelectKBest(chi2, k=self._select_k).fit(self._X_train, self._y_train)\n",
        "\n",
        "        # return the k selected features and scores\n",
        "        # CS_features = df.iloc[:, :df.columns.size-1].columns[CS_selection.get_support()]\n",
        "\n",
        "        return self.get_feature_rankings(self._dataframe_columns, algorithm={'Chi-squared': CS_selection})\n",
        "\n",
        "    def reliefF(self, n_neighbors=100):\n",
        "        #  Using Manhattan distance\n",
        "        # \n",
        "        # create the SelectKBest with the mutual info strategy.\n",
        "        # RF_selection = SelectFromModel(estimator= ReliefF(n_features_to_select=self._select_k, n_neighbors=n_neighbors), max_features=self._select_k, threshold=-np.inf).fit(self._X_train, self._y_train.flatten())\n",
        "        RF_selection = ReliefF(n_features_to_select=self._select_k, n_neighbors=n_neighbors, discrete_threshold=10).fit(self._X_train, self._y_train.flatten())\n",
        "        # \n",
        "        # return the retained features.\n",
        "        # RF_features = df.iloc[:, :df.columns.size-1].columns[RF_selection.get_support()]\n",
        "        \n",
        "        return self.get_feature_rankings(self._dataframe_columns, algorithm={'ReliefF': RF_selection})\n",
        "# \n",
        "# \n",
        "# "
      ]
    },
    {
      "cell_type": "code",
      "execution_count": 18,
      "metadata": {},
      "outputs": [],
      "source": [
        "# \n",
        "# FeatureSelectionPhase2\n",
        "# \n",
        "class FeatureSelectionPhase2(FeatureSelection):\n",
        "    \"\"\"\n",
        "        Feature Selection Phase 2\n",
        "    \"\"\"\n",
        "    def __init__(self, _X_train, _y_train, _X_test, _y_test, _dataframe_columns:list, _target_col_name: str = 'C-Risk Level', _select_k: int = 10) -> None:\n",
        "        self._dataframe_columns = _dataframe_columns\n",
        "        self._X_train = _X_train\n",
        "        self._y_train =_y_train\n",
        "        self._X_test = _X_test\n",
        "        self._y_test = _y_test\n",
        "        self._target_col_name = _target_col_name # 'Class', 'C-Risk Level', 'Target'\n",
        "        self._select_k = _select_k  # change this to how much features you want to keep from the top ones.\n",
        "\n",
        "    def rfe_svm(self, dataframe):\n",
        "        \"\"\"\n",
        "            RFE_SVM i.e recursive feature elimination using an SVM\n",
        "        \"\"\"\n",
        "        # \n",
        "        # create a copy of the dataframe \n",
        "        # df_copy = df[self._dataframe_columns]\n",
        "\n",
        "        # create the SelectKBest with the mutual info strategy. \n",
        "        RFE_selection = RFE(estimator=SVC(kernel=\"linear\"), n_features_to_select=self._select_k, step=3).fit(self._X_train, self._y_train.flatten())\n",
        "        # RFE_selection = RFE(estimator=SVC(kernel=\"linear\"), n_features_to_select=self._select_k, step=3).fit(self._X_train, self._y_train)\n",
        "        RFE_features = dataframe.iloc[:, :dataframe.columns.size-1].columns[RFE_selection.support_]\n",
        "        # \n",
        "        # return the optimal features \n",
        "        return list(RFE_features)\n",
        "\n",
        "    def prifeb(self, C=100, gamma=10, n_estimators=5):\n",
        "        \"\"\"\n",
        "            PRIFEB(Prediction Risk based Feature sElection for Bagging):\n",
        "                The embedded feature selection model with the prediction risk criteria is employed \n",
        "                to select relevant features for the individuals of bagging of SVM.\n",
        "            \n",
        "                https://en.wikipedia.org/wiki/Feature_selection\n",
        "        \"\"\"\n",
        "        # \n",
        "        _base_estimator = SVC(C=C, gamma=gamma)\n",
        "        Prifeb_selection = BaggingClassifier(base_estimator=_base_estimator, n_estimators=n_estimators, \n",
        "                                bootstrap=True, bootstrap_features=False, random_state=0).fit(self._X_train, self._y_train)\n",
        "\n",
        "        _retained_columns = []\n",
        "        train_error = 1 - Prifeb_selection.score(self._X_train, self._y_train)\n",
        "        # \n",
        "        #  select features\n",
        "        for i in range(self._X_test.shape[1]):\n",
        "            mean_of_column = self.column_mean(self._X_test, i)\n",
        "            test_error = 1 - Prifeb_selection.score(mean_of_column, self._y_test)\n",
        "            # \n",
        "            if ((test_error - train_error) > 0):\n",
        "                _retained_columns.append(i)\n",
        "        # \n",
        "        # \n",
        "        # return the top N optimal features\n",
        "        return [self._dataframe_columns[i] for i in _retained_columns][:self._select_k]\n",
        "\n",
        "    def mifeb(self, RMI=0.9):\n",
        "        \"\"\"\n",
        "            MIFEB(Mutual Information based Feature sElection for Bagging):\n",
        "                The mutual information criteria has been widely used in the filter feature selection model, \n",
        "                therefore, we employ this method to bagging and propose a method\n",
        "        \"\"\"\n",
        "        # Generate data using mutual information\n",
        "        MI_selection = SelectKBest(mutual_info_classif, k=len(self._dataframe_columns)).fit(self._X_train, self._y_train)\n",
        "        MI_data = self.get_feature_rankings(self._dataframe_columns, algorithm={'Mutual Info': MI_selection})\n",
        "        # \n",
        "        _retained_columns = []\n",
        "        SUM_MI = sum(list(MI_data.values()))\n",
        "        # \n",
        "        # Select all of the first features as the optimal subset, whose total values\n",
        "        # should be greater than RMI ∗ SUM(MI). RMI is a pre-defined ratio which\n",
        "        # is greater than 0 but less than 1.\n",
        "        # \n",
        "        criterion = RMI*SUM_MI\n",
        "        # \n",
        "        for k,v in enumerate(MI_data):\n",
        "            if (MI_data[v] > criterion):\n",
        "                _retained_columns.append(list(MI_data.keys())[k])\n",
        "        # \n",
        "        # return the optimal features\n",
        "        return _retained_columns\n",
        "# \n",
        "# \n"
      ]
    },
    {
      "cell_type": "markdown",
      "metadata": {},
      "source": [
        "##### Feature Selection Phase 1"
      ]
    },
    {
      "cell_type": "code",
      "execution_count": 19,
      "metadata": {},
      "outputs": [
        {
          "data": {
            "text/plain": [
              "20"
            ]
          },
          "execution_count": 19,
          "metadata": {},
          "output_type": "execute_result"
        }
      ],
      "source": [
        "dataframe_cols = list(df.columns)\n",
        "dataframe_cols.remove('C-Risk Level')\n",
        "# \n",
        "# dataframe_cols\n",
        "# \n",
        "len(dataframe_cols)"
      ]
    },
    {
      "cell_type": "code",
      "execution_count": 20,
      "metadata": {},
      "outputs": [],
      "source": [
        "# \n",
        "FS1 = FeatureSelectionPhase1(X_train, y_train, dataframe_cols)\n",
        "# \n",
        "chi_squared = FS1.chi_squared()\n",
        "# \n",
        "mutual_info = FS1.mutual_info()\n",
        "# \n",
        "reliefF = FS1.reliefF()\n",
        "# \n",
        "# Highest to Lowest [Descending order]\n",
        "# "
      ]
    },
    {
      "cell_type": "code",
      "execution_count": 21,
      "metadata": {},
      "outputs": [
        {
          "name": "stdout",
          "output_type": "stream",
          "text": [
            "Features                  Chi-squared values\n",
            "----------------------  --------------------\n",
            "Vomiting                           26.4212\n",
            "Nausea                             24.5001\n",
            "Genetic Risk                       21.2565\n",
            "Personality disorder               20.8666\n",
            "Numbness in arms                   20.7043\n",
            "Balance Disorder                   20.5832\n",
            "Occupational Hazards               18.4043\n",
            "Convulsion Rate                    17.8464\n",
            "Drowsiness                         12.3684\n",
            "Seizure Rate                       11.9634\n",
            "Numbness in legs                   10.9571\n",
            "Age                                10.785\n",
            "Loss of Smell                      10.2891\n",
            "Rate of Memory Lapses               8.55795\n",
            "Double Vision                       0.676039\n",
            "Gender                              0.478826\n",
            "Blurred Vision                      0.342629\n",
            "Headache                            0.226885\n",
            "Syncope Rate                        0.186903\n",
            "Peripheral Vision Loss              0.170042\n"
          ]
        }
      ],
      "source": [
        "# chi_squared\n",
        "# \n",
        "print(FS1._tabulate(chi_squared, headers = ['Features', 'Chi-squared values']))\n",
        "# \n",
        "# "
      ]
    },
    {
      "cell_type": "code",
      "execution_count": 22,
      "metadata": {},
      "outputs": [
        {
          "name": "stdout",
          "output_type": "stream",
          "text": [
            "Features                  Mutual Information values\n",
            "----------------------  ---------------------------\n",
            "Occupational Hazards                      0.350028\n",
            "Age                                       0.321314\n",
            "Genetic Risk                              0.316051\n",
            "Vomiting                                  0.273133\n",
            "Numbness in arms                          0.263264\n",
            "Convulsion Rate                           0.25368\n",
            "Nausea                                    0.245517\n",
            "Balance Disorder                          0.184943\n",
            "Numbness in legs                          0.166524\n",
            "Drowsiness                                0.149161\n",
            "Rate of Memory Lapses                     0.141335\n",
            "Seizure Rate                              0.136394\n",
            "Personality disorder                      0.134909\n",
            "Loss of Smell                             0.120004\n",
            "Headache                                  0.109094\n",
            "Double Vision                             0.0979122\n",
            "Syncope Rate                              0.0612605\n",
            "Gender                                    0.0515449\n",
            "Peripheral Vision Loss                    0.0448029\n",
            "Blurred Vision                            0.0340526\n"
          ]
        }
      ],
      "source": [
        "# mutual_info\n",
        "# \n",
        "print(FS1._tabulate(mutual_info, headers = ['Features', 'Mutual Information values']))\n",
        "# \n",
        "# "
      ]
    },
    {
      "cell_type": "code",
      "execution_count": 23,
      "metadata": {},
      "outputs": [
        {
          "name": "stdout",
          "output_type": "stream",
          "text": [
            "Features                  ReliefF values\n",
            "----------------------  ----------------\n",
            "Occupational Hazards          0.272724\n",
            "Genetic Risk                  0.233103\n",
            "Convulsion Rate               0.216862\n",
            "Numbness in arms              0.191069\n",
            "Age                           0.140808\n",
            "Nausea                        0.118103\n",
            "Vomiting                      0.103034\n",
            "Personality disorder          0.0914828\n",
            "Rate of Memory Lapses         0.0792069\n",
            "Balance Disorder              0.0771034\n",
            "Loss of Smell                 0.0748621\n",
            "Drowsiness                    0.070931\n",
            "Seizure Rate                  0.068\n",
            "Numbness in legs              0.0607931\n",
            "Headache                      0.0438621\n",
            "Peripheral Vision Loss        0.0406207\n",
            "Double Vision                 0.0351034\n",
            "Blurred Vision                0.0239655\n",
            "Syncope Rate                  0.00817241\n",
            "Gender                       -0.0210345\n"
          ]
        }
      ],
      "source": [
        "# reliefF\n",
        "# \n",
        "print(FS1._tabulate(reliefF, headers = ['Features', 'ReliefF values']))\n",
        "# "
      ]
    },
    {
      "cell_type": "markdown",
      "metadata": {},
      "source": [
        "##### Feature Selection Phase 2"
      ]
    },
    {
      "cell_type": "code",
      "execution_count": 24,
      "metadata": {},
      "outputs": [],
      "source": [
        "# combination of features from phase 1\n",
        "# \n",
        "_phase1_features = FeatureSelection()._majority_voting([list(chi_squared.keys()), list(mutual_info.keys()),list(reliefF.keys())], total_feature_len=13)\n",
        "# \n",
        "# \n",
        "_phase1_fs_df = df[_phase1_features + ['C-Risk Level']] # + df['C-Risk level']\n",
        "# \n",
        "# len(_phase1_features), len(_phase1_fs_df.columns)\n",
        "# "
      ]
    },
    {
      "cell_type": "code",
      "execution_count": 25,
      "metadata": {},
      "outputs": [
        {
          "name": "stdout",
          "output_type": "stream",
          "text": [
            "(290, 13) (73, 13) (290, 1) (73, 1)\n"
          ]
        }
      ],
      "source": [
        "# target = ['C-Risk Level']\n",
        "# \n",
        "_phase1_fs_X_train, _phase1_fs_X_test, _phase1_fs_y_train, _phase1_fs_y_test = PreprocessDataFrame(dataframe=_phase1_fs_df, test_ratio=0.20, target_size=_phase1_fs_df.columns.size-1, features_size=_phase1_fs_df.columns.size-1).minMaxScaler()\n",
        "# \n",
        "print(_phase1_fs_X_train.shape, _phase1_fs_X_test.shape, _phase1_fs_y_train.shape, _phase1_fs_y_test.shape)\n",
        "# \n",
        "# "
      ]
    },
    {
      "cell_type": "code",
      "execution_count": 26,
      "metadata": {},
      "outputs": [
        {
          "data": {
            "text/plain": [
              "13"
            ]
          },
          "execution_count": 26,
          "metadata": {},
          "output_type": "execute_result"
        }
      ],
      "source": [
        "_phase1_fs_dataframe_cols = list(_phase1_fs_df.columns)\n",
        "_phase1_fs_dataframe_cols.remove('C-Risk Level')\n",
        "# \n",
        "# _phase1_fs_dataframe_cols\n",
        "# \n",
        "len(_phase1_fs_dataframe_cols)\n",
        "# "
      ]
    },
    {
      "cell_type": "code",
      "execution_count": 27,
      "metadata": {},
      "outputs": [],
      "source": [
        "# \n",
        "FS2 = FeatureSelectionPhase2(_phase1_fs_X_train, _phase1_fs_y_train, _phase1_fs_X_test, _phase1_fs_y_test, _phase1_fs_dataframe_cols, _select_k=9)\n",
        "# \n",
        "rfe_svm = FS2.rfe_svm(_phase1_fs_df)\n",
        "# \n",
        "prifeb = FS2.prifeb()\n",
        "# \n",
        "mifeb = FS2.mifeb(RMI=0.05)\n",
        "# "
      ]
    },
    {
      "cell_type": "code",
      "execution_count": 28,
      "metadata": {},
      "outputs": [
        {
          "data": {
            "text/plain": [
              "(['Genetic Risk',\n",
              "  'Personality disorder',\n",
              "  'Occupational Hazards',\n",
              "  'Convulsion Rate',\n",
              "  'Drowsiness',\n",
              "  'Seizure Rate',\n",
              "  'Numbness in legs',\n",
              "  'Age',\n",
              "  'Loss of Smell'],\n",
              " 9)"
            ]
          },
          "execution_count": 28,
          "metadata": {},
          "output_type": "execute_result"
        }
      ],
      "source": [
        "# rfe_svm\n",
        "# \n",
        "rfe_svm, len(rfe_svm)\n",
        "# "
      ]
    },
    {
      "cell_type": "code",
      "execution_count": 29,
      "metadata": {},
      "outputs": [
        {
          "data": {
            "text/plain": [
              "(['Vomiting',\n",
              "  'Nausea',\n",
              "  'Genetic Risk',\n",
              "  'Personality disorder',\n",
              "  'Numbness in arms',\n",
              "  'Balance Disorder',\n",
              "  'Occupational Hazards',\n",
              "  'Convulsion Rate',\n",
              "  'Drowsiness'],\n",
              " 9)"
            ]
          },
          "execution_count": 29,
          "metadata": {},
          "output_type": "execute_result"
        }
      ],
      "source": [
        "# prifeb\n",
        "# \n",
        "prifeb, len(prifeb)\n",
        "# "
      ]
    },
    {
      "cell_type": "code",
      "execution_count": 30,
      "metadata": {},
      "outputs": [
        {
          "data": {
            "text/plain": [
              "(['Occupational Hazards',\n",
              "  'Genetic Risk',\n",
              "  'Age',\n",
              "  'Convulsion Rate',\n",
              "  'Nausea',\n",
              "  'Numbness in arms',\n",
              "  'Vomiting',\n",
              "  'Balance Disorder',\n",
              "  'Numbness in legs',\n",
              "  'Drowsiness'],\n",
              " 10)"
            ]
          },
          "execution_count": 30,
          "metadata": {},
          "output_type": "execute_result"
        }
      ],
      "source": [
        "# mifeb\n",
        "# \n",
        "# print(FS2._tabulate(mifeb, headers = ['Features', 'Mifeb values']))\n",
        "mifeb,len(mifeb)"
      ]
    },
    {
      "cell_type": "markdown",
      "metadata": {},
      "source": [
        "### Classification Learning Algorithms"
      ]
    },
    {
      "cell_type": "code",
      "execution_count": 31,
      "metadata": {},
      "outputs": [],
      "source": [
        "# \n",
        "# SVM, KNN, MLP, Decision-Trees(C4.5), Gaussian NB & Logistic Regression\n",
        "# Ensemble: Bagging, Boosting, Stacking (Logistic Regression as Meta Model)\n",
        "# [https://towardsdatascience.com/gridsearchcv-for-beginners-db48a90114ee]\n",
        "# \n",
        "# \n",
        "# https://naeglelab.github.io/OpenEnsembles/OpenEnsembles.html\n",
        "# "
      ]
    },
    {
      "cell_type": "code",
      "execution_count": 32,
      "metadata": {},
      "outputs": [
        {
          "data": {
            "text/plain": [
              "(9, 10)"
            ]
          },
          "execution_count": 32,
          "metadata": {},
          "output_type": "execute_result"
        }
      ],
      "source": [
        "# \n",
        "# combination of features from phase 2\n",
        "# \n",
        "_phase2_features = rfe_svm\n",
        "# _phase2_features = prifeb\n",
        "# _phase2_features = mifeb\n",
        "# _phase2_features = FeatureSelection()._majority_voting([rfe_svm, prifeb, mifeb], total_feature_len=9)\n",
        "# \n",
        "# \n",
        "# \n",
        "_phase2_fs_df = df[_phase2_features + ['C-Risk Level']] # + df['C-Risk level']\n",
        "# \n",
        "len(_phase2_features), len(_phase2_fs_df.columns)\n",
        "# "
      ]
    },
    {
      "cell_type": "code",
      "execution_count": 33,
      "metadata": {},
      "outputs": [
        {
          "data": {
            "text/plain": [
              "['Genetic Risk',\n",
              " 'Personality disorder',\n",
              " 'Occupational Hazards',\n",
              " 'Convulsion Rate',\n",
              " 'Drowsiness',\n",
              " 'Seizure Rate',\n",
              " 'Numbness in legs',\n",
              " 'Age',\n",
              " 'Loss of Smell']"
            ]
          },
          "execution_count": 33,
          "metadata": {},
          "output_type": "execute_result"
        }
      ],
      "source": [
        "_phase2_features"
      ]
    },
    {
      "cell_type": "code",
      "execution_count": 34,
      "metadata": {},
      "outputs": [
        {
          "name": "stdout",
          "output_type": "stream",
          "text": [
            "(206, 9) (157, 9) (206, 1) (157, 1)\n"
          ]
        }
      ],
      "source": [
        "# target = ['C-Risk Level']\n",
        "# \n",
        "_phase2_fs_X_train, _phase2_fs_X_test, _phase2_fs_y_train, _phase2_fs_y_test = PreprocessDataFrame(dataframe=_phase2_fs_df, test_ratio=0.43, target_size=_phase2_fs_df.columns.size-1, features_size=_phase2_fs_df.columns.size-1).minMaxScaler()\n",
        "# \n",
        "print(_phase2_fs_X_train.shape, _phase2_fs_X_test.shape, _phase2_fs_y_train.shape, _phase2_fs_y_test.shape)\n",
        "# \n",
        "# "
      ]
    },
    {
      "cell_type": "markdown",
      "metadata": {},
      "source": [
        "#### Base Models"
      ]
    },
    {
      "cell_type": "markdown",
      "metadata": {},
      "source": [
        "##### Support Vector Machine (SVM)"
      ]
    },
    {
      "cell_type": "code",
      "execution_count": 35,
      "metadata": {},
      "outputs": [],
      "source": [
        "parameters = {\n",
        "    'kernel':('linear', 'rbf'), \n",
        "    'C':[0.1, 1, 10, 100, 1000, 10000],\n",
        "    'gamma':[0.00001, 0.0001, 0.001, 0.01],\n",
        "    'random_state': [45],\n",
        "    }\n",
        "# \n",
        "#\n",
        "# _svm_clf = SVC()\n",
        "# Exhaustive search over specified parameter values for an estimator.\n",
        "svm_clf = GridSearchCV(SVC(), parameters).fit(_phase2_fs_X_train, _phase2_fs_y_train) # (X_train, y_train)\n",
        "# \n",
        "# svm_clf.score(_phase2_fs_X_test, _phase2_fs_y_test) # (X_test, y_test)\n",
        "# "
      ]
    },
    {
      "cell_type": "markdown",
      "metadata": {},
      "source": [
        "##### Decision tree (CART Model)"
      ]
    },
    {
      "cell_type": "code",
      "execution_count": 36,
      "metadata": {},
      "outputs": [],
      "source": [
        "# \n",
        "dt_clf = DecisionTreeClassifier(random_state=0).fit(_phase2_fs_X_train, _phase2_fs_y_train) # (X_train, y_train)\n",
        "# \n",
        "# dt_clf.score(_phase2_fs_X_test, _phase2_fs_y_test) # (X_test, y_test)\n",
        "# "
      ]
    },
    {
      "cell_type": "markdown",
      "metadata": {},
      "source": [
        "##### Multilayer Perceptron (MLP)"
      ]
    },
    {
      "cell_type": "code",
      "execution_count": 37,
      "metadata": {},
      "outputs": [],
      "source": [
        "# \n",
        "mlp_clf = MLPClassifier(random_state=1, max_iter=100).fit(_phase2_fs_X_train, _phase2_fs_y_train) # (X_train, y_train)\n",
        "# \n",
        "# mlp_clf.score(_phase2_fs_X_test, _phase2_fs_y_test) # (X_test, y_test)\n",
        "# "
      ]
    },
    {
      "cell_type": "markdown",
      "metadata": {},
      "source": [
        "##### K-Nearest Neighbour (KNN)"
      ]
    },
    {
      "cell_type": "code",
      "execution_count": 38,
      "metadata": {},
      "outputs": [],
      "source": [
        "# \n",
        "k_neigh_clf = KNeighborsClassifier(n_neighbors=3).fit(_phase2_fs_X_train, _phase2_fs_y_train) # (X_train, y_train)\n",
        "# k_neigh_clf.score(_phase2_fs_X_test, _phase2_fs_y_test) # (X_test, y_test)\n",
        "# "
      ]
    },
    {
      "cell_type": "markdown",
      "metadata": {},
      "source": [
        "##### Gaussian Naive Bayes (G-Naive Bayes)"
      ]
    },
    {
      "cell_type": "code",
      "execution_count": 39,
      "metadata": {},
      "outputs": [],
      "source": [
        "# \n",
        "Gauss_NB_clf = GaussianNB().fit(_phase2_fs_X_train, _phase2_fs_y_train) # (X_train, y_train)\n",
        "# Gauss_NB_clf.score(_phase2_fs_X_test, _phase2_fs_y_test) # (X_test, y_test)\n",
        "# "
      ]
    },
    {
      "cell_type": "markdown",
      "metadata": {},
      "source": [
        "#### Ensemble Models"
      ]
    },
    {
      "cell_type": "markdown",
      "metadata": {},
      "source": [
        "##### Bagging"
      ]
    },
    {
      "cell_type": "code",
      "execution_count": 40,
      "metadata": {},
      "outputs": [],
      "source": [
        "# BaggingClassifier\n",
        "# [svm_clf, dt_clf, mlp_clf, k_neigh_clf, Gauss_NB_clf, bag_svm_clf, bag_dt_clf, bag_mlp_clf, bag_k_neigh_clf, bag_Gauss_NB_clf, boost_svm_clf, boost_dt_clf, boost_Gauss_NB_clf, stacking_clf]\n",
        "# \n",
        "bag_svm_clf = BaggingClassifier(base_estimator=SVC(), n_estimators=10, random_state=0).fit(_phase2_fs_X_train, _phase2_fs_y_train)\n",
        "# \n",
        "bag_dt_clf = BaggingClassifier(base_estimator=DecisionTreeClassifier(), n_estimators=10, random_state=0).fit(_phase2_fs_X_train, _phase2_fs_y_train)\n",
        "# \n",
        "bag_mlp_clf = BaggingClassifier(base_estimator=MLPClassifier(), n_estimators=10, random_state=0).fit(_phase2_fs_X_train, _phase2_fs_y_train)\n",
        "# \n",
        "bag_k_neigh_clf = BaggingClassifier(base_estimator=KNeighborsClassifier(), n_estimators=10, random_state=0).fit(_phase2_fs_X_train, _phase2_fs_y_train)\n",
        "# \n",
        "bag_Gauss_NB_clf = BaggingClassifier(base_estimator=GaussianNB(), n_estimators=10, random_state=0).fit(_phase2_fs_X_train, _phase2_fs_y_train)\n",
        "# \n",
        "# "
      ]
    },
    {
      "cell_type": "markdown",
      "metadata": {},
      "source": [
        "##### Boosting"
      ]
    },
    {
      "cell_type": "code",
      "execution_count": 41,
      "metadata": {},
      "outputs": [],
      "source": [
        "# Adaboost\n",
        "# [svm_clf, dt_clf, mlp_clf, k_neigh_clf, Gauss_NB_clf, bag_svm_clf, bag_dt_clf, bag_mlp_clf, bag_k_neigh_clf, bag_Gauss_NB_clf, boost_svm_clf, boost_dt_clf, boost_Gauss_NB_clf, stacking_clf]\n",
        "# \n",
        "boost_svm_clf = AdaBoostClassifier(base_estimator=SVC(), n_estimators=100, algorithm='SAMME', random_state=0).fit(_phase2_fs_X_train, _phase2_fs_y_train)\n",
        "# \n",
        "boost_dt_clf = AdaBoostClassifier(base_estimator=DecisionTreeClassifier(), n_estimators=100, random_state=0).fit(_phase2_fs_X_train, _phase2_fs_y_train)\n",
        "# \n",
        "# boost_mlp_clf = AdaBoostClassifier(base_estimator=MLPClassifier(), n_estimators=100, algorithm='SAMME', random_state=0).fit(_phase2_fs_X_train, _phase2_fs_y_train)\n",
        "# boost_Gauss_NB_clf\n",
        "# boost_k_neigh_clf = AdaBoostClassifier(base_estimator=KNeighborsClassifier(), n_estimators=100, random_state=0).fit(_phase2_fs_X_train, _phase2_fs_y_train)\n",
        "# \n",
        "boost_Gauss_NB_clf = AdaBoostClassifier(base_estimator=GaussianNB(), n_estimators=100, random_state=0).fit(_phase2_fs_X_train, _phase2_fs_y_train)\n",
        "# \n",
        "# "
      ]
    },
    {
      "cell_type": "markdown",
      "metadata": {},
      "source": [
        "##### Stacking [with Logistic Regression as Meta Model]"
      ]
    },
    {
      "cell_type": "code",
      "execution_count": 42,
      "metadata": {},
      "outputs": [],
      "source": [
        "# Stacking\n",
        "# [svm_clf, dt_clf, mlp_clf, k_neigh_clf, Gauss_NB_clf, bag_svm_clf, bag_dt_clf, bag_mlp_clf, bag_k_neigh_clf, bag_Gauss_NB_clf, boost_svm_clf, boost_dt_clf, boost_Gauss_NB_clf, stacking_clf]\n",
        "# \n",
        "estimators = [\n",
        "    ('SVC', SVC()),\n",
        "    ('DT', DecisionTreeClassifier()),\n",
        "    ('MLP', MLPClassifier()),\n",
        "    ('KNN', KNeighborsClassifier()),\n",
        "    ('NB', GaussianNB()),\n",
        "]\n",
        "# \n",
        "# \n",
        "# \n",
        "stacking_clf = StackingClassifier(\n",
        "     estimators=estimators, final_estimator=LogisticRegression(random_state=0)\n",
        " ).fit(_phase2_fs_X_train, _phase2_fs_y_train)\n",
        "# \n",
        "# \n"
      ]
    },
    {
      "cell_type": "markdown",
      "metadata": {},
      "source": [
        "#### Evaluation & Visualization"
      ]
    },
    {
      "cell_type": "code",
      "execution_count": 43,
      "metadata": {},
      "outputs": [],
      "source": [
        "# \n",
        "#   Model Evaluation and Visualization\n",
        "# \n",
        "class ModelEvaluationAndVisualization:\n",
        "    def __init__(self, model_clf, y_test: np.array, y_pred: np.array) -> None:\n",
        "        self.model_clf = model_clf\n",
        "        self._y_test = y_test\n",
        "        self._y_pred = y_pred # predictions\n",
        "\n",
        "    def confusion_matrix(self, **kwargs):\n",
        "        \"\"\"\n",
        "            Confusion Matrix\n",
        "            https://medium.com/@dtuk81/confusion-matrix-visualization-fc31e3f30fea\n",
        "        \"\"\"\n",
        "        # \n",
        "        cf_matrix = confusion_matrix(self._y_test, self._y_pred, labels=self.model_clf.classes_)\n",
        "        # \n",
        "        # display\n",
        "        # \n",
        "        group_names = ['True Neg','False Pos','False Neg','True Pos']\n",
        "        group_counts = [\"{0:0.0f}\".format(value) for value in\n",
        "                        cf_matrix.flatten()]\n",
        "        group_percentages = [\"{0:.2%}\".format(value) for value in\n",
        "                             cf_matrix.flatten()/np.sum(cf_matrix)]\n",
        "        labels = [f\"{v1}\\n{v2}\\n{v3}\" for v1, v2, v3 in\n",
        "                  zip(group_names,group_counts,group_percentages)]\n",
        "        labels = np.asarray(labels).reshape(2,2)\n",
        "        \n",
        "        # \n",
        "        return sns.heatmap(cf_matrix, annot=labels, fmt='', cmap='Blues', cbar=True, **kwargs)\n",
        "    \n",
        "    def accuracy_score(self):\n",
        "        \"\"\"\n",
        "            Accuracy score\n",
        "        \"\"\"\n",
        "        return accuracy_score(self._y_test, self._y_pred)\n",
        "# \n",
        "# \n",
        "# \n",
        "# \n",
        "def flatten(t):\n",
        "    \"\"\"\n",
        "        Flatten\n",
        "    \"\"\"\n",
        "    return [item for sublist in t for item in sublist]\n",
        "# \n",
        "# \n",
        "# \n",
        "def merge_dicts(_list_of_dicts: list) -> dict:\n",
        "    \"\"\"\n",
        "        Merge Dicts\n",
        "    \"\"\"\n",
        "    # \n",
        "    _dicts_keys = flatten([list(_dict.keys()) for _dict in _list_of_dicts])\n",
        "    # \n",
        "    d = {}\n",
        "    # \n",
        "    for key in set(_dicts_keys):\n",
        "        for _dict in _list_of_dicts:\n",
        "            try:\n",
        "                d.setdefault(key, []).append(_dict[key])\n",
        "            except KeyError:\n",
        "                pass\n",
        "    # \n",
        "    return d\n",
        "# \n",
        "#   \n",
        "# \n",
        "# confusion matrix \n",
        "# accuracy\n",
        "# sensitivity\n",
        "# specificity\n",
        "# AUC_ROC\n",
        "# Recall\n",
        "# Precision\n",
        "# \n",
        "# \n",
        "# FS1 Methods:\n",
        "# chi_squared\n",
        "# mutual_info\n",
        "# reliefF\n",
        "# \n",
        "# \n",
        "# \n",
        "models_x = ['SVM', 'DT', 'MLP', 'KNN', 'NB', 'Bag(SVM)', 'Bag(DT)', 'Bag(MLP)', 'Bag(KNN)', 'Bag(NB)', 'Boost(SVM)', 'Boost(DT)', 'Boost(NB)', 'Stacking[LogReg]'] # x\n",
        "model_clfs = [svm_clf, dt_clf, mlp_clf, k_neigh_clf, Gauss_NB_clf, bag_svm_clf, bag_dt_clf, bag_mlp_clf, bag_k_neigh_clf, bag_Gauss_NB_clf, boost_svm_clf, boost_dt_clf, boost_Gauss_NB_clf, stacking_clf]\n",
        "# \n",
        "# "
      ]
    },
    {
      "cell_type": "markdown",
      "metadata": {},
      "source": [
        "##### Feature Selection Phase 1"
      ]
    },
    {
      "cell_type": "code",
      "execution_count": 44,
      "metadata": {},
      "outputs": [
        {
          "data": {
            "image/png": "[encoded data removed]",
            "text/plain": [
              "<Figure size 432x576 with 1 Axes>"
            ]
          },
          "metadata": {
            "needs_background": "light"
          },
          "output_type": "display_data"
        }
      ],
      "source": [
        "# \n",
        "# chi_squared\n",
        "# \n",
        "chi_squared_x = list(chi_squared.keys())\n",
        "# \n",
        "chi_squared_y = list(chi_squared.values())\n",
        "# \n",
        "# Simple Bar Plot\n",
        "plt.figure(figsize=(6,8))\n",
        "plt.barh(chi_squared_x, chi_squared_y)\n",
        "plt.xlabel('Features')\n",
        "plt.ylabel(\"Scores\")\n",
        "plt.title('Chi Squared')\n",
        "plt.show()\n",
        "# \n",
        "# "
      ]
    },
    {
      "cell_type": "code",
      "execution_count": 45,
      "metadata": {},
      "outputs": [
        {
          "data": {
            "image/png": "[encoded data removed]",
            "text/plain": [
              "<Figure size 432x576 with 1 Axes>"
            ]
          },
          "metadata": {
            "needs_background": "light"
          },
          "output_type": "display_data"
        }
      ],
      "source": [
        "# \n",
        "# mutual_info\n",
        "# \n",
        "mutual_info_x = list(mutual_info.keys())\n",
        "# \n",
        "mutual_info_y = list(mutual_info.values())\n",
        "# \n",
        "# Simple Bar Plot\n",
        "plt.figure(figsize=(6,8))\n",
        "plt.barh(mutual_info_x, mutual_info_y)\n",
        "plt.xlabel('Features')\n",
        "plt.ylabel(\"Scores\")\n",
        "plt.title('Mutual Info')\n",
        "plt.show()\n",
        "# \n",
        "# "
      ]
    },
    {
      "cell_type": "code",
      "execution_count": 46,
      "metadata": {},
      "outputs": [
        {
          "data": {
            "image/png": "[encoded data removed]",
            "text/plain": [
              "<Figure size 432x576 with 1 Axes>"
            ]
          },
          "metadata": {
            "needs_background": "light"
          },
          "output_type": "display_data"
        }
      ],
      "source": [
        "# \n",
        "# reliefF\n",
        "# \n",
        "reliefF_x = list(reliefF.keys())\n",
        "# \n",
        "reliefF_y = list(reliefF.values())\n",
        "# \n",
        "# Simple Bar Plot\n",
        "plt.figure(figsize=(6,8))\n",
        "plt.barh(reliefF_x, reliefF_y) \n",
        "plt.xlabel('Features')\n",
        "plt.ylabel(\"Scores\")\n",
        "plt.title('ReliefF')\n",
        "plt.show()\n",
        "# \n",
        "# "
      ]
    },
    {
      "cell_type": "code",
      "execution_count": 47,
      "metadata": {},
      "outputs": [],
      "source": [
        "# \n",
        "# \n",
        "merge_dicts = merge_dicts([chi_squared, mutual_info, reliefF])\n",
        "# print(merge_dicts)\n",
        "#\n",
        "# merge_dicts\n",
        "# \n",
        "# print(FS1._tabulate(merge_dicts, headers = ['Features', 'Feature Selection values [Chi-Squared, Mutual Info, ReliefF]']))   \n",
        "# \n",
        "# \n",
        "fs_df = pd.DataFrame([[k] + v for k, v in merge_dicts.items()],\n",
        "                    columns=['Features', 'Chi-Squared', 'Mutual Info', 'ReliefF'])\n",
        "# \n",
        "# \n",
        "# fs_df.head(5)\n",
        "fs_df.to_excel(\"results/FeatureSelectionPhase1Table.xlsx\")\n",
        "# \n",
        "# \n",
        "# plot grouped bar chart\n",
        "# fs_df.plot(x='Features',\n",
        "#         kind='bar',\n",
        "#         stacked=False,\n",
        "#         title='Grouped Bar Graph with dataframe')\n",
        "# \n",
        "# "
      ]
    },
    {
      "cell_type": "markdown",
      "metadata": {},
      "source": [
        "##### Confusion Matrix"
      ]
    },
    {
      "cell_type": "code",
      "execution_count": 48,
      "metadata": {},
      "outputs": [
        {
          "data": {
            "text/plain": [
              "<AxesSubplot:>"
            ]
          },
          "execution_count": 48,
          "metadata": {},
          "output_type": "execute_result"
        },
        {
          "data": {
            "image/png": "[encoded data removed]",
            "text/plain": [
              "<Figure size 432x288 with 2 Axes>"
            ]
          },
          "metadata": {
            "needs_background": "light"
          },
          "output_type": "display_data"
        }
      ],
      "source": [
        "# [svm_clf, dt_clf, mlp_clf, k_neigh_clf, Gauss_NB_clf, bag_svm_clf, bag_dt_clf, bag_mlp_clf, bag_k_neigh_clf, bag_Gauss_NB_clf, boost_svm_clf, boost_dt_clf, boost_Gauss_NB_clf, stacking_clf]\n",
        "# SVM\n",
        "# \n",
        "ModelEvaluationAndVisualization(svm_clf, _phase2_fs_y_test, svm_clf.predict(_phase2_fs_X_test)).confusion_matrix()\n",
        "# "
      ]
    },
    {
      "cell_type": "code",
      "execution_count": 49,
      "metadata": {},
      "outputs": [
        {
          "data": {
            "text/plain": [
              "<AxesSubplot:>"
            ]
          },
          "execution_count": 49,
          "metadata": {},
          "output_type": "execute_result"
        },
        {
          "data": {
            "image/png": "[encoded data removed]",
            "text/plain": [
              "<Figure size 432x288 with 2 Axes>"
            ]
          },
          "metadata": {
            "needs_background": "light"
          },
          "output_type": "display_data"
        }
      ],
      "source": [
        "# [svm_clf, dt_clf, mlp_clf, k_neigh_clf, Gauss_NB_clf, bag_svm_clf, bag_dt_clf, bag_mlp_clf, bag_k_neigh_clf, bag_Gauss_NB_clf, boost_svm_clf, boost_dt_clf, boost_Gauss_NB_clf, stacking_clf]\n",
        "# DT\n",
        "# \n",
        "ModelEvaluationAndVisualization(dt_clf, _phase2_fs_y_test, dt_clf.predict(_phase2_fs_X_test)).confusion_matrix()\n",
        "# "
      ]
    },
    {
      "cell_type": "code",
      "execution_count": 50,
      "metadata": {},
      "outputs": [
        {
          "data": {
            "text/plain": [
              "<AxesSubplot:>"
            ]
          },
          "execution_count": 50,
          "metadata": {},
          "output_type": "execute_result"
        },
        {
          "data": {
            "image/png": "[encoded data removed]",
            "text/plain": [
              "<Figure size 432x288 with 2 Axes>"
            ]
          },
          "metadata": {
            "needs_background": "light"
          },
          "output_type": "display_data"
        }
      ],
      "source": [
        "# [svm_clf, dt_clf, mlp_clf, k_neigh_clf, Gauss_NB_clf, bag_svm_clf, bag_dt_clf, bag_mlp_clf, bag_k_neigh_clf, bag_Gauss_NB_clf, boost_svm_clf, boost_dt_clf, boost_Gauss_NB_clf, stacking_clf]\n",
        "# MLP\n",
        "# \n",
        "ModelEvaluationAndVisualization(mlp_clf, _phase2_fs_y_test, mlp_clf.predict(_phase2_fs_X_test)).confusion_matrix()\n",
        "# "
      ]
    },
    {
      "cell_type": "code",
      "execution_count": 51,
      "metadata": {},
      "outputs": [
        {
          "data": {
            "text/plain": [
              "<AxesSubplot:>"
            ]
          },
          "execution_count": 51,
          "metadata": {},
          "output_type": "execute_result"
        },
        {
          "data": {
            "image/png": "[encoded data removed]",
            "text/plain": [
              "<Figure size 432x288 with 2 Axes>"
            ]
          },
          "metadata": {
            "needs_background": "light"
          },
          "output_type": "display_data"
        }
      ],
      "source": [
        "# [svm_clf, dt_clf, mlp_clf, k_neigh_clf, Gauss_NB_clf, bag_svm_clf, bag_dt_clf, bag_mlp_clf, bag_k_neigh_clf, bag_Gauss_NB_clf, boost_svm_clf, boost_dt_clf, boost_Gauss_NB_clf, stacking_clf]\n",
        "# KNN\n",
        "# \n",
        "ModelEvaluationAndVisualization(k_neigh_clf, _phase2_fs_y_test, k_neigh_clf.predict(_phase2_fs_X_test)).confusion_matrix()\n",
        "# "
      ]
    },
    {
      "cell_type": "code",
      "execution_count": 52,
      "metadata": {},
      "outputs": [
        {
          "data": {
            "text/plain": [
              "<AxesSubplot:>"
            ]
          },
          "execution_count": 52,
          "metadata": {},
          "output_type": "execute_result"
        },
        {
          "data": {
            "image/png": "[encoded data removed]",
            "text/plain": [
              "<Figure size 432x288 with 2 Axes>"
            ]
          },
          "metadata": {
            "needs_background": "light"
          },
          "output_type": "display_data"
        }
      ],
      "source": [
        "# [svm_clf, dt_clf, mlp_clf, k_neigh_clf, Gauss_NB_clf, bag_svm_clf, bag_dt_clf, bag_mlp_clf, bag_k_neigh_clf, bag_Gauss_NB_clf, boost_svm_clf, boost_dt_clf, boost_Gauss_NB_clf, stacking_clf]\n",
        "# Guassian NB\n",
        "# \n",
        "ModelEvaluationAndVisualization(Gauss_NB_clf, _phase2_fs_y_test, Gauss_NB_clf.predict(_phase2_fs_X_test)).confusion_matrix()\n",
        "# "
      ]
    },
    {
      "cell_type": "code",
      "execution_count": 53,
      "metadata": {},
      "outputs": [
        {
          "data": {
            "text/plain": [
              "<AxesSubplot:>"
            ]
          },
          "execution_count": 53,
          "metadata": {},
          "output_type": "execute_result"
        },
        {
          "data": {
            "image/png": "[encoded data removed]",
            "text/plain": [
              "<Figure size 432x288 with 2 Axes>"
            ]
          },
          "metadata": {
            "needs_background": "light"
          },
          "output_type": "display_data"
        }
      ],
      "source": [
        "# [svm_clf, dt_clf, mlp_clf, k_neigh_clf, Gauss_NB_clf, bag_svm_clf, bag_dt_clf, bag_mlp_clf, bag_k_neigh_clf, bag_Gauss_NB_clf, boost_svm_clf, boost_dt_clf, boost_Gauss_NB_clf, stacking_clf]\n",
        "# Bagging (SVM)\n",
        "# \n",
        "ModelEvaluationAndVisualization(bag_svm_clf, _phase2_fs_y_test, bag_svm_clf.predict(_phase2_fs_X_test)).confusion_matrix()\n",
        "# "
      ]
    },
    {
      "cell_type": "code",
      "execution_count": 54,
      "metadata": {},
      "outputs": [
        {
          "data": {
            "text/plain": [
              "<AxesSubplot:>"
            ]
          },
          "execution_count": 54,
          "metadata": {},
          "output_type": "execute_result"
        },
        {
          "data": {
            "image/png": "[encoded data removed]",
            "text/plain": [
              "<Figure size 432x288 with 2 Axes>"
            ]
          },
          "metadata": {
            "needs_background": "light"
          },
          "output_type": "display_data"
        }
      ],
      "source": [
        "# [svm_clf, dt_clf, mlp_clf, k_neigh_clf, Gauss_NB_clf, bag_svm_clf, bag_dt_clf, bag_mlp_clf, bag_k_neigh_clf, bag_Gauss_NB_clf, boost_svm_clf, boost_dt_clf, boost_Gauss_NB_clf, stacking_clf]\n",
        "# Bagging (DT)\n",
        "# \n",
        "ModelEvaluationAndVisualization(bag_dt_clf, _phase2_fs_y_test, bag_dt_clf.predict(_phase2_fs_X_test)).confusion_matrix()\n",
        "# "
      ]
    },
    {
      "cell_type": "code",
      "execution_count": 55,
      "metadata": {},
      "outputs": [
        {
          "data": {
            "text/plain": [
              "<AxesSubplot:>"
            ]
          },
          "execution_count": 55,
          "metadata": {},
          "output_type": "execute_result"
        },
        {
          "data": {
            "image/png": "[encoded data removed]",
            "text/plain": [
              "<Figure size 432x288 with 2 Axes>"
            ]
          },
          "metadata": {
            "needs_background": "light"
          },
          "output_type": "display_data"
        }
      ],
      "source": [
        "# [svm_clf, dt_clf, mlp_clf, k_neigh_clf, Gauss_NB_clf, bag_svm_clf, bag_dt_clf, bag_mlp_clf, bag_k_neigh_clf, bag_Gauss_NB_clf, boost_svm_clf, boost_dt_clf, boost_Gauss_NB_clf, stacking_clf]\n",
        "# Bagging (MLP)\n",
        "# \n",
        "ModelEvaluationAndVisualization(bag_mlp_clf, _phase2_fs_y_test, bag_mlp_clf.predict(_phase2_fs_X_test)).confusion_matrix()\n",
        "# "
      ]
    },
    {
      "cell_type": "code",
      "execution_count": 56,
      "metadata": {},
      "outputs": [
        {
          "data": {
            "text/plain": [
              "<AxesSubplot:>"
            ]
          },
          "execution_count": 56,
          "metadata": {},
          "output_type": "execute_result"
        },
        {
          "data": {
            "image/png": "[encoded data removed]",
            "text/plain": [
              "<Figure size 432x288 with 2 Axes>"
            ]
          },
          "metadata": {
            "needs_background": "light"
          },
          "output_type": "display_data"
        }
      ],
      "source": [
        "# [svm_clf, dt_clf, mlp_clf, k_neigh_clf, Gauss_NB_clf, bag_svm_clf, bag_dt_clf, bag_mlp_clf, bag_k_neigh_clf, bag_Gauss_NB_clf, boost_svm_clf, boost_dt_clf, boost_Gauss_NB_clf, stacking_clf]\n",
        "# Bagging (KNN)\n",
        "# \n",
        "ModelEvaluationAndVisualization(bag_k_neigh_clf, _phase2_fs_y_test, bag_k_neigh_clf.predict(_phase2_fs_X_test)).confusion_matrix()\n",
        "# "
      ]
    },
    {
      "cell_type": "code",
      "execution_count": 57,
      "metadata": {},
      "outputs": [
        {
          "data": {
            "text/plain": [
              "<AxesSubplot:>"
            ]
          },
          "execution_count": 57,
          "metadata": {},
          "output_type": "execute_result"
        },
        {
          "data": {
            "image/png": "[encoded data removed]",
            "text/plain": [
              "<Figure size 432x288 with 2 Axes>"
            ]
          },
          "metadata": {
            "needs_background": "light"
          },
          "output_type": "display_data"
        }
      ],
      "source": [
        "# [svm_clf, dt_clf, mlp_clf, k_neigh_clf, Gauss_NB_clf, bag_svm_clf, bag_dt_clf, bag_mlp_clf, bag_k_neigh_clf, bag_Gauss_NB_clf, boost_svm_clf, boost_dt_clf, boost_Gauss_NB_clf, stacking_clf]\n",
        "# Bagging (NB)\n",
        "# \n",
        "ModelEvaluationAndVisualization(bag_Gauss_NB_clf, _phase2_fs_y_test, bag_Gauss_NB_clf.predict(_phase2_fs_X_test)).confusion_matrix()\n",
        "# "
      ]
    },
    {
      "cell_type": "code",
      "execution_count": 58,
      "metadata": {},
      "outputs": [
        {
          "data": {
            "text/plain": [
              "<AxesSubplot:>"
            ]
          },
          "execution_count": 58,
          "metadata": {},
          "output_type": "execute_result"
        },
        {
          "data": {
            "image/png": "[encoded data removed]",
            "text/plain": [
              "<Figure size 432x288 with 2 Axes>"
            ]
          },
          "metadata": {
            "needs_background": "light"
          },
          "output_type": "display_data"
        }
      ],
      "source": [
        "# [svm_clf, dt_clf, mlp_clf, k_neigh_clf, Gauss_NB_clf, bag_svm_clf, bag_dt_clf, bag_mlp_clf, bag_k_neigh_clf, bag_Gauss_NB_clf, boost_svm_clf, boost_dt_clf, boost_Gauss_NB_clf, stacking_clf]\n",
        "# Boosting (SVM)\n",
        "# \n",
        "ModelEvaluationAndVisualization(boost_svm_clf, _phase2_fs_y_test, boost_svm_clf.predict(_phase2_fs_X_test)).confusion_matrix()\n",
        "# "
      ]
    },
    {
      "cell_type": "code",
      "execution_count": 59,
      "metadata": {},
      "outputs": [
        {
          "data": {
            "text/plain": [
              "<AxesSubplot:>"
            ]
          },
          "execution_count": 59,
          "metadata": {},
          "output_type": "execute_result"
        },
        {
          "data": {
            "image/png": "[encoded data removed]",
            "text/plain": [
              "<Figure size 432x288 with 2 Axes>"
            ]
          },
          "metadata": {
            "needs_background": "light"
          },
          "output_type": "display_data"
        }
      ],
      "source": [
        "# [svm_clf, dt_clf, mlp_clf, k_neigh_clf, Gauss_NB_clf, bag_svm_clf, bag_dt_clf, bag_mlp_clf, bag_k_neigh_clf, bag_Gauss_NB_clf, boost_svm_clf, boost_dt_clf, boost_Gauss_NB_clf, stacking_clf]\n",
        "# Boosting (DT)\n",
        "# \n",
        "ModelEvaluationAndVisualization(boost_dt_clf, _phase2_fs_y_test, boost_dt_clf.predict(_phase2_fs_X_test)).confusion_matrix()\n",
        "# "
      ]
    },
    {
      "cell_type": "code",
      "execution_count": 60,
      "metadata": {},
      "outputs": [
        {
          "data": {
            "text/plain": [
              "<AxesSubplot:>"
            ]
          },
          "execution_count": 60,
          "metadata": {},
          "output_type": "execute_result"
        },
        {
          "data": {
            "image/png": "[encoded data removed]",
            "text/plain": [
              "<Figure size 432x288 with 2 Axes>"
            ]
          },
          "metadata": {
            "needs_background": "light"
          },
          "output_type": "display_data"
        }
      ],
      "source": [
        "# [svm_clf, dt_clf, mlp_clf, k_neigh_clf, Gauss_NB_clf, bag_svm_clf, bag_dt_clf, bag_mlp_clf, bag_k_neigh_clf, bag_Gauss_NB_clf, boost_svm_clf, boost_dt_clf, boost_Gauss_NB_clf, stacking_clf]\n",
        "# Boosting (NB)\n",
        "# \n",
        "ModelEvaluationAndVisualization(boost_Gauss_NB_clf, _phase2_fs_y_test, boost_Gauss_NB_clf.predict(_phase2_fs_X_test)).confusion_matrix()\n",
        "# "
      ]
    },
    {
      "cell_type": "code",
      "execution_count": 61,
      "metadata": {},
      "outputs": [
        {
          "data": {
            "text/plain": [
              "<AxesSubplot:>"
            ]
          },
          "execution_count": 61,
          "metadata": {},
          "output_type": "execute_result"
        },
        {
          "data": {
            "image/png": "[encoded data removed]",
            "text/plain": [
              "<Figure size 432x288 with 2 Axes>"
            ]
          },
          "metadata": {
            "needs_background": "light"
          },
          "output_type": "display_data"
        }
      ],
      "source": [
        "# [svm_clf, dt_clf, mlp_clf, k_neigh_clf, Gauss_NB_clf, bag_svm_clf, bag_dt_clf, bag_mlp_clf, bag_k_neigh_clf, bag_Gauss_NB_clf, boost_svm_clf, boost_dt_clf, boost_Gauss_NB_clf, stacking_clf]\n",
        "# Stacking\n",
        "# \n",
        "ModelEvaluationAndVisualization(stacking_clf, _phase2_fs_y_test, stacking_clf.predict(_phase2_fs_X_test)).confusion_matrix()\n",
        "# "
      ]
    },
    {
      "cell_type": "markdown",
      "metadata": {},
      "source": [
        "##### Accuracy"
      ]
    },
    {
      "cell_type": "code",
      "execution_count": 62,
      "metadata": {},
      "outputs": [
        {
          "data": {
            "image/png": "[encoded data removed]",
            "text/plain": [
              "<Figure size 576x432 with 1 Axes>"
            ]
          },
          "metadata": {
            "needs_background": "light"
          },
          "output_type": "display_data"
        }
      ],
      "source": [
        "# accuracy_score\n",
        "# Create Data\n",
        "# [svm_clf, dt_clf, mlp_clf, k_neigh_clf, Gauss_NB_clf, bag_svm_clf, bag_dt_clf, bag_mlp_clf, bag_k_neigh_clf, bag_Gauss_NB_clf, boost_svm_clf, boost_dt_clf, boost_Gauss_NB_clf, stacking_clf]\n",
        "# \n",
        "accuracy_score_y = [(ModelEvaluationAndVisualization(model, _phase2_fs_y_test, model.predict(_phase2_fs_X_test)).accuracy_score()) for model in model_clfs]\n",
        "# \n",
        "# Simple Bar Plot\n",
        "plt.figure(figsize=(8,6))\n",
        "plt.bar(models_x, accuracy_score_y)\n",
        "plt.xlabel('Models')\n",
        "plt.xticks(rotation=90)\n",
        "plt.ylabel(\"Accuracy Score\")\n",
        "plt.title('Accuracy')\n",
        "plt.show()\n",
        "# "
      ]
    },
    {
      "cell_type": "markdown",
      "metadata": {},
      "source": [
        "##### Precision"
      ]
    },
    {
      "cell_type": "code",
      "execution_count": 63,
      "metadata": {},
      "outputs": [
        {
          "data": {
            "image/png": "[encoded data removed]",
            "text/plain": [
              "<Figure size 576x432 with 1 Axes>"
            ]
          },
          "metadata": {
            "needs_background": "light"
          },
          "output_type": "display_data"
        }
      ],
      "source": [
        "# precision_score\n",
        "# Create Data\n",
        "# \n",
        "# [svm_clf, dt_clf, mlp_clf, k_neigh_clf, Gauss_NB_clf, bag_svm_clf, bag_dt_clf, bag_mlp_clf, bag_k_neigh_clf, bag_Gauss_NB_clf, boost_svm_clf, boost_dt_clf, boost_Gauss_NB_clf, stacking_clf]\n",
        "# \n",
        "precision_score_y = [precision_score(_phase2_fs_y_test, model.predict(_phase2_fs_X_test)) for model in model_clfs]\n",
        "# \n",
        "# Simple Bar Plot\n",
        "plt.figure(figsize=(8,6))\n",
        "plt.bar(models_x, precision_score_y)\n",
        "plt.xlabel('Models')\n",
        "plt.xticks(rotation=90)\n",
        "plt.ylabel(\"Precision Score\")\n",
        "plt.title('Precision')\n",
        "plt.show()\n",
        "# "
      ]
    },
    {
      "cell_type": "markdown",
      "metadata": {},
      "source": [
        "##### Recall"
      ]
    },
    {
      "cell_type": "code",
      "execution_count": 64,
      "metadata": {},
      "outputs": [
        {
          "data": {
            "image/png": "[encoded data removed]",
            "text/plain": [
              "<Figure size 576x432 with 1 Axes>"
            ]
          },
          "metadata": {
            "needs_background": "light"
          },
          "output_type": "display_data"
        }
      ],
      "source": [
        "# \n",
        "recall_score_y = [recall_score(_phase2_fs_y_test, model.predict(_phase2_fs_X_test)) for model in model_clfs]\n",
        "# recall_score_y = [svm_clf.score(_phase2_fs_X_test, _phase2_fs_y_test), dt_clf.score(_phase2_fs_X_test, _phase2_fs_y_test), \n",
        "#                    mlp_clf.score(_phase2_fs_X_test, _phase2_fs_y_test), k_neigh_clf.score(_phase2_fs_X_test, _phase2_fs_y_test), Gauss_NB_clf.score(_phase2_fs_X_test, _phase2_fs_y_test)]\n",
        "# recall_score(y_true, y_pred, average=None)\n",
        "# \n",
        "# Simple Bar Plot\n",
        "plt.figure(figsize=(8,6))\n",
        "plt.bar(models_x, recall_score_y)\n",
        "plt.xlabel('Models')\n",
        "plt.xticks(rotation=90)\n",
        "plt.ylabel(\"Recall Score\")\n",
        "plt.title('Recall')\n",
        "plt.show()"
      ]
    },
    {
      "cell_type": "markdown",
      "metadata": {},
      "source": [
        "##### AUC (ROC)"
      ]
    },
    {
      "cell_type": "code",
      "execution_count": 65,
      "metadata": {},
      "outputs": [
        {
          "data": {
            "text/plain": [
              "<sklearn.metrics._plot.roc_curve.RocCurveDisplay at 0x7f0137f8b1c0>"
            ]
          },
          "execution_count": 65,
          "metadata": {},
          "output_type": "execute_result"
        },
        {
          "data": {
            "image/png": "[encoded data removed]",
            "text/plain": [
              "<Figure size 432x288 with 1 Axes>"
            ]
          },
          "metadata": {
            "needs_background": "light"
          },
          "output_type": "display_data"
        }
      ],
      "source": [
        "# plot_roc_curve(svm_clf, )\n",
        "# fpr, tpr, thresholds = roc_curve(y, pred)\n",
        "# \n",
        "svm_fpr, svm_tpr, thresholds = roc_curve(_phase2_fs_y_test, svm_clf.predict(_phase2_fs_X_test))\n",
        "roc_auc = auc(svm_fpr, svm_tpr)\n",
        "display = RocCurveDisplay(fpr=svm_fpr, tpr=svm_tpr, roc_auc=roc_auc, estimator_name='SVM')\n",
        "display.plot()\n",
        "# \n",
        "# "
      ]
    },
    {
      "cell_type": "code",
      "execution_count": 66,
      "metadata": {},
      "outputs": [
        {
          "data": {
            "text/plain": [
              "<sklearn.metrics._plot.roc_curve.RocCurveDisplay at 0x7f01374bd5b0>"
            ]
          },
          "execution_count": 66,
          "metadata": {},
          "output_type": "execute_result"
        },
        {
          "data": {
            "image/png": "[encoded data removed]",
            "text/plain": [
              "<Figure size 432x288 with 1 Axes>"
            ]
          },
          "metadata": {
            "needs_background": "light"
          },
          "output_type": "display_data"
        }
      ],
      "source": [
        "# plot_roc_curve(svm_clf, )\n",
        "# fpr, tpr, thresholds = roc_curve(y, pred)\n",
        "# \n",
        "dt_fpr, dt_tpr, thresholds = roc_curve(_phase2_fs_y_test, dt_clf.predict(_phase2_fs_X_test))\n",
        "roc_auc = auc(dt_fpr, dt_tpr)\n",
        "display = RocCurveDisplay(fpr=dt_fpr, tpr=dt_tpr, roc_auc=roc_auc, estimator_name='Decision Tree')\n",
        "display.plot()\n",
        "# \n",
        "# "
      ]
    },
    {
      "cell_type": "code",
      "execution_count": 67,
      "metadata": {},
      "outputs": [
        {
          "data": {
            "text/plain": [
              "<sklearn.metrics._plot.roc_curve.RocCurveDisplay at 0x7f01376145b0>"
            ]
          },
          "execution_count": 67,
          "metadata": {},
          "output_type": "execute_result"
        },
        {
          "data": {
            "image/png": "[encoded data removed]",
            "text/plain": [
              "<Figure size 432x288 with 1 Axes>"
            ]
          },
          "metadata": {
            "needs_background": "light"
          },
          "output_type": "display_data"
        }
      ],
      "source": [
        "# plot_roc_curve(svm_clf, )\n",
        "# fpr, tpr, thresholds = roc_curve(y, pred)\n",
        "# \n",
        "mlp_fpr, mlp_tpr, thresholds = roc_curve(_phase2_fs_y_test, mlp_clf.predict(_phase2_fs_X_test))\n",
        "roc_auc = auc(mlp_fpr, mlp_tpr)\n",
        "display = RocCurveDisplay(fpr=mlp_fpr, tpr=mlp_tpr, roc_auc=roc_auc, estimator_name='MLP')\n",
        "display.plot()\n",
        "# \n",
        "# "
      ]
    },
    {
      "cell_type": "code",
      "execution_count": 68,
      "metadata": {},
      "outputs": [
        {
          "data": {
            "text/plain": [
              "<sklearn.metrics._plot.roc_curve.RocCurveDisplay at 0x7f013742a7f0>"
            ]
          },
          "execution_count": 68,
          "metadata": {},
          "output_type": "execute_result"
        },
        {
          "data": {
            "image/png": "[encoded data removed]",
            "text/plain": [
              "<Figure size 432x288 with 1 Axes>"
            ]
          },
          "metadata": {
            "needs_background": "light"
          },
          "output_type": "display_data"
        }
      ],
      "source": [
        "# plot_roc_curve(svm_clf, )\n",
        "# fpr, tpr, thresholds = roc_curve(y, pred)\n",
        "# \n",
        "k_neigh_fpr, k_neigh_tpr, thresholds = roc_curve(_phase2_fs_y_test, k_neigh_clf.predict(_phase2_fs_X_test))\n",
        "roc_auc = auc(k_neigh_fpr, k_neigh_tpr)\n",
        "display = RocCurveDisplay(fpr=k_neigh_fpr, tpr=k_neigh_tpr, roc_auc=roc_auc, estimator_name='KNN')\n",
        "display.plot()\n",
        "# \n",
        "# "
      ]
    },
    {
      "cell_type": "code",
      "execution_count": 69,
      "metadata": {},
      "outputs": [
        {
          "data": {
            "text/plain": [
              "<sklearn.metrics._plot.roc_curve.RocCurveDisplay at 0x7f0137376fd0>"
            ]
          },
          "execution_count": 69,
          "metadata": {},
          "output_type": "execute_result"
        },
        {
          "data": {
            "image/png": "[encoded data removed]",
            "text/plain": [
              "<Figure size 432x288 with 1 Axes>"
            ]
          },
          "metadata": {
            "needs_background": "light"
          },
          "output_type": "display_data"
        }
      ],
      "source": [
        "# plot_roc_curve(svm_clf, )\n",
        "# fpr, tpr, thresholds = roc_curve(y, pred)\n",
        "# \n",
        "Gauss_NB_fpr, Gauss_NB_tpr, thresholds = roc_curve(_phase2_fs_y_test, Gauss_NB_clf.predict(_phase2_fs_X_test))\n",
        "roc_auc = auc(Gauss_NB_fpr, Gauss_NB_tpr)\n",
        "display = RocCurveDisplay(fpr=Gauss_NB_fpr, tpr=Gauss_NB_tpr, roc_auc=roc_auc, estimator_name='Naive Bayes')\n",
        "display.plot()\n",
        "# \n",
        "# "
      ]
    },
    {
      "cell_type": "code",
      "execution_count": 70,
      "metadata": {},
      "outputs": [
        {
          "data": {
            "text/plain": [
              "<sklearn.metrics._plot.roc_curve.RocCurveDisplay at 0x7f01375ec040>"
            ]
          },
          "execution_count": 70,
          "metadata": {},
          "output_type": "execute_result"
        },
        {
          "data": {
            "image/png": "[encoded data removed]",
            "text/plain": [
              "<Figure size 432x288 with 1 Axes>"
            ]
          },
          "metadata": {
            "needs_background": "light"
          },
          "output_type": "display_data"
        }
      ],
      "source": [
        "# plot_roc_curve(svm_clf, )\n",
        "# fpr, tpr, thresholds = roc_curve(y, pred)\n",
        "# \n",
        "bag_svm_fpr, bag_svm_tpr, thresholds = roc_curve(_phase2_fs_y_test, bag_svm_clf.predict(_phase2_fs_X_test))\n",
        "roc_auc = auc(bag_svm_fpr, bag_svm_tpr)\n",
        "display = RocCurveDisplay(fpr=bag_svm_fpr, tpr=bag_svm_tpr, roc_auc=roc_auc, estimator_name='Bagged(SVM)')\n",
        "display.plot()\n",
        "# \n",
        "# "
      ]
    },
    {
      "cell_type": "code",
      "execution_count": 71,
      "metadata": {},
      "outputs": [
        {
          "data": {
            "text/plain": [
              "<sklearn.metrics._plot.roc_curve.RocCurveDisplay at 0x7f01372aaac0>"
            ]
          },
          "execution_count": 71,
          "metadata": {},
          "output_type": "execute_result"
        },
        {
          "data": {
            "image/png": "[encoded data removed]",
            "text/plain": [
              "<Figure size 432x288 with 1 Axes>"
            ]
          },
          "metadata": {
            "needs_background": "light"
          },
          "output_type": "display_data"
        }
      ],
      "source": [
        "# plot_roc_curve(svm_clf, )\n",
        "# fpr, tpr, thresholds = roc_curve(y, pred)\n",
        "# \n",
        "bag_dt_fpr, bag_dt_tpr, thresholds = roc_curve(_phase2_fs_y_test, bag_dt_clf.predict(_phase2_fs_X_test))\n",
        "roc_auc = auc(bag_dt_fpr, bag_dt_tpr)\n",
        "display = RocCurveDisplay(fpr=bag_dt_fpr, tpr=bag_dt_tpr, roc_auc=roc_auc, estimator_name='Bagged(DT)')\n",
        "display.plot()\n",
        "# \n",
        "# "
      ]
    },
    {
      "cell_type": "code",
      "execution_count": 72,
      "metadata": {},
      "outputs": [
        {
          "data": {
            "text/plain": [
              "<sklearn.metrics._plot.roc_curve.RocCurveDisplay at 0x7f0137376220>"
            ]
          },
          "execution_count": 72,
          "metadata": {},
          "output_type": "execute_result"
        },
        {
          "data": {
            "image/png": "[encoded data removed]",
            "text/plain": [
              "<Figure size 432x288 with 1 Axes>"
            ]
          },
          "metadata": {
            "needs_background": "light"
          },
          "output_type": "display_data"
        }
      ],
      "source": [
        "# plot_roc_curve(svm_clf, )\n",
        "# fpr, tpr, thresholds = roc_curve(y, pred)\n",
        "# \n",
        "bag_mlp_fpr, bag_mlp_tpr, thresholds = roc_curve(_phase2_fs_y_test, bag_mlp_clf.predict(_phase2_fs_X_test))\n",
        "roc_auc = auc(bag_mlp_fpr, bag_mlp_tpr)\n",
        "display = RocCurveDisplay(fpr=bag_mlp_fpr, tpr=bag_mlp_tpr, roc_auc=roc_auc, estimator_name='Bagged(MLP)')\n",
        "display.plot()\n",
        "# \n",
        "# "
      ]
    },
    {
      "cell_type": "code",
      "execution_count": 73,
      "metadata": {},
      "outputs": [
        {
          "data": {
            "text/plain": [
              "<sklearn.metrics._plot.roc_curve.RocCurveDisplay at 0x7f01371cdd90>"
            ]
          },
          "execution_count": 73,
          "metadata": {},
          "output_type": "execute_result"
        },
        {
          "data": {
            "image/png": "[encoded data removed]",
            "text/plain": [
              "<Figure size 432x288 with 1 Axes>"
            ]
          },
          "metadata": {
            "needs_background": "light"
          },
          "output_type": "display_data"
        }
      ],
      "source": [
        "# plot_roc_curve(svm_clf, )\n",
        "# fpr, tpr, thresholds = roc_curve(y, pred)\n",
        "# \n",
        "bag_k_neigh_fpr, bag_k_neigh_tpr, thresholds = roc_curve(_phase2_fs_y_test, bag_k_neigh_clf.predict(_phase2_fs_X_test))\n",
        "roc_auc = auc(bag_k_neigh_fpr, bag_k_neigh_tpr)\n",
        "display = RocCurveDisplay(fpr=bag_k_neigh_fpr, tpr=bag_k_neigh_tpr, roc_auc=roc_auc, estimator_name='Bagged(KNN)')\n",
        "display.plot()\n",
        "# \n",
        "# "
      ]
    },
    {
      "cell_type": "code",
      "execution_count": 74,
      "metadata": {},
      "outputs": [
        {
          "data": {
            "text/plain": [
              "<sklearn.metrics._plot.roc_curve.RocCurveDisplay at 0x7f013735e8e0>"
            ]
          },
          "execution_count": 74,
          "metadata": {},
          "output_type": "execute_result"
        },
        {
          "data": {
            "image/png": "[encoded data removed]",
            "text/plain": [
              "<Figure size 432x288 with 1 Axes>"
            ]
          },
          "metadata": {
            "needs_background": "light"
          },
          "output_type": "display_data"
        }
      ],
      "source": [
        "# plot_roc_curve(svm_clf, )\n",
        "# fpr, tpr, thresholds = roc_curve(y, pred)\n",
        "# \n",
        "bag_Gauss_NB_fpr, bag_Gauss_NB_tpr, thresholds = roc_curve(_phase2_fs_y_test, bag_Gauss_NB_clf.predict(_phase2_fs_X_test))\n",
        "roc_auc = auc(bag_Gauss_NB_fpr, bag_Gauss_NB_tpr)\n",
        "display = RocCurveDisplay(fpr=bag_Gauss_NB_fpr, tpr=bag_Gauss_NB_tpr, roc_auc=roc_auc, estimator_name='Bagged(NB)')\n",
        "display.plot()\n",
        "# \n",
        "# "
      ]
    },
    {
      "cell_type": "code",
      "execution_count": 75,
      "metadata": {},
      "outputs": [
        {
          "data": {
            "text/plain": [
              "<sklearn.metrics._plot.roc_curve.RocCurveDisplay at 0x7f0137113d30>"
            ]
          },
          "execution_count": 75,
          "metadata": {},
          "output_type": "execute_result"
        },
        {
          "data": {
            "image/png": "[encoded data removed]",
            "text/plain": [
              "<Figure size 432x288 with 1 Axes>"
            ]
          },
          "metadata": {
            "needs_background": "light"
          },
          "output_type": "display_data"
        }
      ],
      "source": [
        "# plot_roc_curve(svm_clf, )\n",
        "# fpr, tpr, thresholds = roc_curve(y, pred)\n",
        "# \n",
        "boost_svm_fpr, boost_svm_tpr, thresholds = roc_curve(_phase2_fs_y_test, boost_svm_clf.predict(_phase2_fs_X_test))\n",
        "roc_auc = auc(boost_svm_fpr, boost_svm_tpr)\n",
        "display = RocCurveDisplay(fpr=boost_svm_fpr, tpr=boost_svm_tpr, roc_auc=roc_auc, estimator_name='Boosted(SVM)')\n",
        "display.plot()\n",
        "# \n",
        "# "
      ]
    },
    {
      "cell_type": "code",
      "execution_count": 76,
      "metadata": {},
      "outputs": [
        {
          "data": {
            "text/plain": [
              "<sklearn.metrics._plot.roc_curve.RocCurveDisplay at 0x7f013741ed90>"
            ]
          },
          "execution_count": 76,
          "metadata": {},
          "output_type": "execute_result"
        },
        {
          "data": {
            "image/png": "[encoded data removed]",
            "text/plain": [
              "<Figure size 432x288 with 1 Axes>"
            ]
          },
          "metadata": {
            "needs_background": "light"
          },
          "output_type": "display_data"
        }
      ],
      "source": [
        "# plot_roc_curve(svm_clf, )\n",
        "# fpr, tpr, thresholds = roc_curve(y, pred)\n",
        "# \n",
        "boost_dt_fpr, boost_dt_tpr, thresholds = roc_curve(_phase2_fs_y_test, boost_dt_clf.predict(_phase2_fs_X_test))\n",
        "roc_auc = auc(boost_dt_fpr, boost_dt_tpr)\n",
        "display = RocCurveDisplay(fpr=boost_dt_fpr, tpr=boost_dt_tpr, roc_auc=roc_auc, estimator_name='Boosted(DT)')\n",
        "display.plot()\n",
        "# \n",
        "# "
      ]
    },
    {
      "cell_type": "code",
      "execution_count": 77,
      "metadata": {},
      "outputs": [
        {
          "data": {
            "text/plain": [
              "<sklearn.metrics._plot.roc_curve.RocCurveDisplay at 0x7f013742adc0>"
            ]
          },
          "execution_count": 77,
          "metadata": {},
          "output_type": "execute_result"
        },
        {
          "data": {
            "image/png": "[encoded data removed]",
            "text/plain": [
              "<Figure size 432x288 with 1 Axes>"
            ]
          },
          "metadata": {
            "needs_background": "light"
          },
          "output_type": "display_data"
        }
      ],
      "source": [
        "# plot_roc_curve(svm_clf, )\n",
        "# fpr, tpr, thresholds = roc_curve(y, pred)\n",
        "# \n",
        "boost_Gauss_NB_fpr, boost_Gauss_NB_tpr, thresholds = roc_curve(_phase2_fs_y_test, boost_Gauss_NB_clf.predict(_phase2_fs_X_test))\n",
        "roc_auc = auc(boost_Gauss_NB_fpr, boost_Gauss_NB_tpr)\n",
        "display = RocCurveDisplay(fpr=boost_Gauss_NB_fpr, tpr=boost_Gauss_NB_tpr, roc_auc=roc_auc, estimator_name='Boosted(NB)')\n",
        "display.plot()\n",
        "# \n",
        "# "
      ]
    },
    {
      "cell_type": "code",
      "execution_count": 78,
      "metadata": {},
      "outputs": [
        {
          "data": {
            "text/plain": [
              "<sklearn.metrics._plot.roc_curve.RocCurveDisplay at 0x7f01371dba90>"
            ]
          },
          "execution_count": 78,
          "metadata": {},
          "output_type": "execute_result"
        },
        {
          "data": {
            "image/png": "[encoded data removed]",
            "text/plain": [
              "<Figure size 432x288 with 1 Axes>"
            ]
          },
          "metadata": {
            "needs_background": "light"
          },
          "output_type": "display_data"
        }
      ],
      "source": [
        "# plot_roc_curve(svm_clf, )\n",
        "# fpr, tpr, thresholds = roc_curve(y, pred)\n",
        "# \n",
        "stacking_fpr, stacking_tpr, thresholds = roc_curve(_phase2_fs_y_test, stacking_clf.predict(_phase2_fs_X_test))\n",
        "roc_auc = auc(stacking_fpr, stacking_tpr)\n",
        "display = RocCurveDisplay(fpr=stacking_fpr, tpr=stacking_tpr, roc_auc=roc_auc, estimator_name='Stacking[LogReg]')\n",
        "display.plot()\n",
        "# \n",
        "# "
      ]
    },
    {
      "cell_type": "markdown",
      "metadata": {},
      "source": [
        "##### Sensitivity"
      ]
    },
    {
      "cell_type": "code",
      "execution_count": 79,
      "metadata": {},
      "outputs": [
        {
          "data": {
            "image/png": "[encoded data removed]",
            "text/plain": [
              "<Figure size 576x432 with 1 Axes>"
            ]
          },
          "metadata": {
            "needs_background": "light"
          },
          "output_type": "display_data"
        }
      ],
      "source": [
        "# Sensitivity (True Positive Rate) refers to the probability of a positive test, \n",
        "# conditioned on truly having the condition (or tested positive by the `Gold Standard test` \n",
        "# if the true condition can not be known).\n",
        "# Sensitivity (TPR) = 1 - FNR\n",
        "#  \n",
        "# \n",
        "models_tpr = [svm_tpr, dt_tpr, mlp_tpr, k_neigh_tpr, Gauss_NB_tpr, bag_svm_tpr, bag_dt_tpr, bag_mlp_tpr, bag_k_neigh_tpr, bag_Gauss_NB_tpr, boost_svm_tpr, boost_dt_tpr, boost_Gauss_NB_tpr, stacking_tpr]\n",
        "# \n",
        "sensitivity_y = [model_tpr[1] for model_tpr in models_tpr] \n",
        "# \n",
        "\n",
        "# Simple Bar Plot\n",
        "plt.figure(figsize=(8,6))\n",
        "plt.bar(models_x, sensitivity_y)\n",
        "plt.xlabel('Models')\n",
        "plt.xticks(rotation=90)\n",
        "plt.ylabel(\"Values\")\n",
        "plt.title('Sensitivity')\n",
        "plt.show()"
      ]
    },
    {
      "cell_type": "markdown",
      "metadata": {},
      "source": [
        "##### Specificity"
      ]
    },
    {
      "cell_type": "code",
      "execution_count": 80,
      "metadata": {},
      "outputs": [],
      "source": [
        "def specificity(fpr):\n",
        "    \"\"\"\n",
        "        Specificity (True Negative Rate) refers to the probability of a negative test, \n",
        "        provided one does not have the condition (judged negative by the `Gold Standard`).\n",
        "        \n",
        "        Fomula => Specificity(TNR) = 1 - FPR\n",
        "    \"\"\"\n",
        "    return 1 - fpr"
      ]
    },
    {
      "cell_type": "code",
      "execution_count": 81,
      "metadata": {},
      "outputs": [
        {
          "data": {
            "image/png": "[encoded data removed]",
            "text/plain": [
              "<Figure size 576x432 with 1 Axes>"
            ]
          },
          "metadata": {
            "needs_background": "light"
          },
          "output_type": "display_data"
        }
      ],
      "source": [
        "# \n",
        "# models_fpr = [svm_fpr, dt_fpr, mlp_fpr, k_neigh_fpr, Gauss_NB_fpr]\n",
        "models_fpr = [svm_fpr, dt_fpr, mlp_fpr, k_neigh_fpr, Gauss_NB_fpr, bag_svm_fpr, bag_dt_fpr, bag_mlp_fpr, bag_k_neigh_fpr, bag_Gauss_NB_fpr, boost_svm_fpr, boost_dt_fpr, boost_Gauss_NB_fpr, stacking_fpr]\n",
        "specificity_y = [specificity(model_fpr[1]) for model_fpr in models_fpr] \n",
        "# \n",
        "\n",
        "# Simple Bar Plot\n",
        "plt.figure(figsize=(8,6))\n",
        "plt.bar(models_x, specificity_y)\n",
        "plt.xlabel('Models')\n",
        "plt.xticks(rotation=90)\n",
        "plt.ylabel(\"Values\")\n",
        "plt.title('Specificity')\n",
        "plt.show()"
      ]
    },
    {
      "cell_type": "markdown",
      "metadata": {},
      "source": [
        "##### Box plot [base & ensemble models]"
      ]
    },
    {
      "cell_type": "code",
      "execution_count": 82,
      "metadata": {},
      "outputs": [
        {
          "data": {
            "text/html": [
              "<div>\n",
              "<style scoped>\n",
              "    .dataframe tbody tr th:only-of-type {\n",
              "        vertical-align: middle;\n",
              "    }\n",
              "\n",
              "    .dataframe tbody tr th {\n",
              "        vertical-align: top;\n",
              "    }\n",
              "\n",
              "    .dataframe thead th {\n",
              "        text-align: right;\n",
              "    }\n",
              "</style>\n",
              "<table border=\"1\" class=\"dataframe\">\n",
              "  <thead>\n",
              "    <tr style=\"text-align: right;\">\n",
              "      <th></th>\n",
              "      <th>SVM</th>\n",
              "      <th>DT</th>\n",
              "      <th>MLP</th>\n",
              "      <th>KNN</th>\n",
              "      <th>NB</th>\n",
              "      <th>Bag(SVM)</th>\n",
              "      <th>Bag(DT)</th>\n",
              "      <th>Bag(MLP)</th>\n",
              "      <th>Bag(KNN)</th>\n",
              "      <th>Bag(NB)</th>\n",
              "      <th>Boost(SVM)</th>\n",
              "      <th>Boost(DT)</th>\n",
              "      <th>Boost(NB)</th>\n",
              "      <th>Stacking[LogReg]</th>\n",
              "    </tr>\n",
              "  </thead>\n",
              "  <tbody>\n",
              "    <tr>\n",
              "      <th>0</th>\n",
              "      <td>0.975610</td>\n",
              "      <td>0.878049</td>\n",
              "      <td>0.902439</td>\n",
              "      <td>0.975610</td>\n",
              "      <td>0.902439</td>\n",
              "      <td>0.926829</td>\n",
              "      <td>0.951220</td>\n",
              "      <td>0.975610</td>\n",
              "      <td>0.951220</td>\n",
              "      <td>0.902439</td>\n",
              "      <td>0.487805</td>\n",
              "      <td>0.902439</td>\n",
              "      <td>0.463415</td>\n",
              "      <td>0.926829</td>\n",
              "    </tr>\n",
              "    <tr>\n",
              "      <th>1</th>\n",
              "      <td>0.926829</td>\n",
              "      <td>0.853659</td>\n",
              "      <td>0.829268</td>\n",
              "      <td>0.902439</td>\n",
              "      <td>0.804878</td>\n",
              "      <td>0.902439</td>\n",
              "      <td>0.926829</td>\n",
              "      <td>0.926829</td>\n",
              "      <td>0.878049</td>\n",
              "      <td>0.804878</td>\n",
              "      <td>0.512195</td>\n",
              "      <td>0.853659</td>\n",
              "      <td>0.512195</td>\n",
              "      <td>0.951220</td>\n",
              "    </tr>\n",
              "    <tr>\n",
              "      <th>2</th>\n",
              "      <td>0.975610</td>\n",
              "      <td>0.951220</td>\n",
              "      <td>0.902439</td>\n",
              "      <td>0.951220</td>\n",
              "      <td>0.878049</td>\n",
              "      <td>0.951220</td>\n",
              "      <td>0.951220</td>\n",
              "      <td>0.902439</td>\n",
              "      <td>0.951220</td>\n",
              "      <td>0.878049</td>\n",
              "      <td>0.512195</td>\n",
              "      <td>0.951220</td>\n",
              "      <td>0.512195</td>\n",
              "      <td>0.951220</td>\n",
              "    </tr>\n",
              "    <tr>\n",
              "      <th>3</th>\n",
              "      <td>0.853659</td>\n",
              "      <td>0.878049</td>\n",
              "      <td>0.756098</td>\n",
              "      <td>0.853659</td>\n",
              "      <td>0.731707</td>\n",
              "      <td>0.829268</td>\n",
              "      <td>0.878049</td>\n",
              "      <td>0.829268</td>\n",
              "      <td>0.853659</td>\n",
              "      <td>0.731707</td>\n",
              "      <td>0.512195</td>\n",
              "      <td>0.878049</td>\n",
              "      <td>0.731707</td>\n",
              "      <td>0.878049</td>\n",
              "    </tr>\n",
              "    <tr>\n",
              "      <th>4</th>\n",
              "      <td>0.976190</td>\n",
              "      <td>0.928571</td>\n",
              "      <td>0.809524</td>\n",
              "      <td>0.904762</td>\n",
              "      <td>0.904762</td>\n",
              "      <td>0.952381</td>\n",
              "      <td>0.928571</td>\n",
              "      <td>0.928571</td>\n",
              "      <td>0.880952</td>\n",
              "      <td>0.904762</td>\n",
              "      <td>0.500000</td>\n",
              "      <td>0.857143</td>\n",
              "      <td>0.500000</td>\n",
              "      <td>0.976190</td>\n",
              "    </tr>\n",
              "  </tbody>\n",
              "</table>\n",
              "</div>"
            ],
            "text/plain": [
              "        SVM        DT       MLP       KNN        NB  Bag(SVM)   Bag(DT)  \\\n",
              "0  0.975610  0.878049  0.902439  0.975610  0.902439  0.926829  0.951220   \n",
              "1  0.926829  0.853659  0.829268  0.902439  0.804878  0.902439  0.926829   \n",
              "2  0.975610  0.951220  0.902439  0.951220  0.878049  0.951220  0.951220   \n",
              "3  0.853659  0.878049  0.756098  0.853659  0.731707  0.829268  0.878049   \n",
              "4  0.976190  0.928571  0.809524  0.904762  0.904762  0.952381  0.928571   \n",
              "\n",
              "   Bag(MLP)  Bag(KNN)   Bag(NB)  Boost(SVM)  Boost(DT)  Boost(NB)  \\\n",
              "0  0.975610  0.951220  0.902439    0.487805   0.902439   0.463415   \n",
              "1  0.926829  0.878049  0.804878    0.512195   0.853659   0.512195   \n",
              "2  0.902439  0.951220  0.878049    0.512195   0.951220   0.512195   \n",
              "3  0.829268  0.853659  0.731707    0.512195   0.878049   0.731707   \n",
              "4  0.928571  0.880952  0.904762    0.500000   0.857143   0.500000   \n",
              "\n",
              "   Stacking[LogReg]  \n",
              "0          0.926829  \n",
              "1          0.951220  \n",
              "2          0.951220  \n",
              "3          0.878049  \n",
              "4          0.976190  "
            ]
          },
          "execution_count": 82,
          "metadata": {},
          "output_type": "execute_result"
        }
      ],
      "source": [
        "# \n",
        "# Accuracy of five base learners\n",
        "# Y = accuracy score\n",
        "# X = names of learners\n",
        "# \n",
        "# \n",
        "model_clfs = [svm_clf, dt_clf, mlp_clf, k_neigh_clf, Gauss_NB_clf, bag_svm_clf, bag_dt_clf, bag_mlp_clf, bag_k_neigh_clf, bag_Gauss_NB_clf, boost_svm_clf, boost_dt_clf, boost_Gauss_NB_clf, stacking_clf] \n",
        "# \n",
        "# \n",
        "CV = 5\n",
        "models_accuracies = {}\n",
        "# \n",
        "for model_clf in model_clfs:\n",
        "    models_accuracies[models_x[model_clfs.index(model_clf)]] = cross_val_score(model_clf, _phase2_fs_X_train, _phase2_fs_y_train, scoring ='accuracy', cv=CV)\n",
        "\n",
        "# \n",
        "boxplot_df = pd.DataFrame(data=np.rot90(list(models_accuracies.values())), columns=list(models_accuracies.keys()))\n",
        "# \n",
        "boxplot_df\n",
        "# boxplot_df.plot.box(title='Boxplot with pandas');\n",
        "# \n",
        "# "
      ]
    },
    {
      "cell_type": "code",
      "execution_count": 83,
      "metadata": {},
      "outputs": [],
      "source": [
        "boxplot_df.to_excel(\"results/AccuraciesTable.xlsx\")\n",
        "# "
      ]
    },
    {
      "cell_type": "code",
      "execution_count": 84,
      "metadata": {},
      "outputs": [
        {
          "data": {
            "image/png": "[encoded data removed]",
            "text/plain": [
              "<Figure size 576x432 with 1 Axes>"
            ]
          },
          "metadata": {
            "needs_background": "light"
          },
          "output_type": "display_data"
        }
      ],
      "source": [
        "# \n",
        "# \n",
        "vals, names, xs = [],[],[]\n",
        "for i, col in enumerate(boxplot_df.columns):\n",
        "    vals.append(boxplot_df[col].values)\n",
        "    names.append(col)\n",
        "    xs.append(np.random.normal(i + 1, 0.04, boxplot_df[col].values.shape[0]))  # adds jitter to the data points - can be adjusted\n",
        "# \n",
        "# \n",
        "# \n",
        "plt.figure(figsize=(8,6))\n",
        "plt.xticks(rotation=90)\n",
        "plt.boxplot(vals, labels=names)\n",
        "palette = ['r', 'g', 'b', 'y']\n",
        "for x, val, c in zip(xs, vals, palette):\n",
        "    plt.scatter(x, val, alpha=0.4, color=c)\n",
        "plt.show()\n",
        "# \n",
        "# "
      ]
    },
    {
      "cell_type": "markdown",
      "metadata": {},
      "source": [
        "## Docs"
      ]
    },
    {
      "cell_type": "code",
      "execution_count": 85,
      "metadata": {},
      "outputs": [],
      "source": [
        "# # Create Data\n",
        "# x=['A','B','C','D','E','F','G','H','I','J']\n",
        "# y = np.random.randint(low=0, high=100, size=10)\n",
        "# \n",
        "# # Simple Bar Plot\n",
        "# plt.bar(x,y)\n",
        "# plt.xlabel('Categories')\n",
        "# plt.ylabel(\"Values\")\n",
        "# plt.title('Categories Bar Plot')\n",
        "# plt.show()\n",
        "# \n",
        "# \n",
        "# https://towardsdatascience.com/the-eda-theoretical-guide-b7cef7653f0d\n",
        "# https://towardsdatascience.com/14-data-visualization-plots-of-seaborn-14a7bdd16cd7\n",
        "# https://en.wikipedia.org/wiki/Sensitivity_and_specificity\n",
        "# \n",
        "# "
      ]
    }
  ],
  "metadata": {
    "colab": {
      "collapsed_sections": [],
      "name": "Cervical Cancer Prediction.ipynb",
      "provenance": []
    },
    "kernelspec": {
      "display_name": "Python 3",
      "language": "python",
      "name": "python3"
    },
    "language_info": {
      "codemirror_mode": {
        "name": "ipython",
        "version": 3
      },
      "file_extension": ".py",
      "mimetype": "text/x-python",
      "name": "python",
      "nbconvert_exporter": "python",
      "pygments_lexer": "ipython3",
      "version": "3.8.3"
    }
  },
  "nbformat": 4,
  "nbformat_minor": 0
}
